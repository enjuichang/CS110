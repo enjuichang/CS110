{
 "cells": [
  {
   "cell_type": "markdown",
   "metadata": {
    "deletable": false,
    "editable": false
   },
   "source": [
    "Before you turn this problem in, make sure everything runs as expected. First, **restart the kernel** (in the menubar, select Kernel$\\rightarrow$Restart) and then **run all cells** (in the menubar, select Cell$\\rightarrow$Run All).\n",
    "\n",
    "Note that this Pre-class Work is estimated to take **46 minutes**.\n",
    "\n",
    "Make sure you fill in any place that says `YOUR CODE HERE` or \"YOUR ANSWER HERE\", as well as your name and collaborators below:"
   ]
  },
  {
   "cell_type": "code",
   "execution_count": null,
   "metadata": {},
   "outputs": [],
   "source": [
    "NAME = \"Enjui Chang\"\n",
    "COLLABORATORS = \"\""
   ]
  },
  {
   "cell_type": "markdown",
   "metadata": {
    "deletable": false,
    "editable": false
   },
   "source": [
    "# CS110 Pre-class Work - Computational applications of dynamic programming and greedy algorithms"
   ]
  },
  {
   "cell_type": "markdown",
   "metadata": {
    "deletable": false,
    "editable": false
   },
   "source": [
    "## Question 1 [time estimate: 18 minutes]\n",
    "Complete the following functions, following the algorithms in Cormen et al."
   ]
  },
  {
   "cell_type": "code",
   "execution_count": 27,
   "metadata": {},
   "outputs": [],
   "source": [
    "def lcs_length(x, y):\n",
    "    \"\"\"\n",
    "    Computes the length of an LCS of strings x and y.\n",
    "    \n",
    "    Inputs:\n",
    "    - x, y: strings\n",
    "    \n",
    "    Outputs:\n",
    "    - c: a list of lists of ints OR a numpy array. c[i,j] contains the \n",
    "    length of a LCS of x[:i] and y[:j]\n",
    "    - b: a list of lists of strings OR a numpy array, containing the information\n",
    "    used for LCS reconstruction (See Cormen et al.) Use \"N\" (North), \"NW\" \n",
    "    (North West), and \"W\" (West) that correspond to the directions of the arrows \n",
    "    used in Cormen et al.\n",
    "    \"\"\"\n",
    "    # define the length of the sequence m and n\n",
    "    m = len(x)\n",
    "    n = len(y)\n",
    "    \n",
    "    # initialize both tables\n",
    "    b = [[0 for k in range(n+1)] for i in range(m+1)]\n",
    "    c = [[0 for k in range(n+1)] for i in range(m+1)]\n",
    "    \n",
    "    # iterate every element in the tables \n",
    "    # and define its value based on the previous ones\n",
    "    for i in range(1, m+1):\n",
    "        for j in range(1, n+1):\n",
    "            \n",
    "            # if the elements in the sequences are the same, add them to the count\n",
    "            if x[i-1] == y[j-1]:\n",
    "                c[i][j] = c[i-1][j-1]+1\n",
    "                b[i][j] = \"NW\" # set pointer to northwest\n",
    "            \n",
    "            # if upward is greater than the left, the entry is the largest\n",
    "            # set pointer to north\n",
    "            elif c[i-1][j] >= c[i][j-1]:\n",
    "                c[i][j] = c[i-1][j]\n",
    "                b[i][j] = \"N\" # set pointer to north\n",
    "                \n",
    "            # if left is greater than the upward, set pointer to west\n",
    "            else:\n",
    "                c[i][j] = c[i][j-1]\n",
    "                b[i][j] = \"W\" # set pointer to west\n",
    "    return c, b"
   ]
  },
  {
   "cell_type": "code",
   "execution_count": 28,
   "metadata": {},
   "outputs": [],
   "source": [
    "def print_lcs(b,x,i,j):\n",
    "    \"\"\"\n",
    "    Finds a LCS.\n",
    "    \n",
    "    Inputs:\n",
    "    - b: a list of lists of strings OR a numpy array, returned by lcs_length\n",
    "    - x: string, an input to lcs_length\n",
    "    - i, j: ints. print_lcs(b,x,i,j) returns a lcs of x[:i] and y[:j], where y\n",
    "    is an input to lcs_length.\n",
    "    \n",
    "    Outputs:\n",
    "    - lcs: list of strings, representing a LCS of x and y\n",
    "    - length: int, the length of the LCS\n",
    "    \n",
    "    You can choose to actually PRINT OUT the LCS or not using the print function.\n",
    "    \n",
    "    \"\"\"\n",
    "    # initialize storage\n",
    "    storage = []\n",
    "    \n",
    "    # call the helper function and run through the recursion\n",
    "    lcs = helper(b,x,i+1,j+1, storage)\n",
    "    length = len(lcs)\n",
    "\n",
    "    return lcs, length\n",
    "\n",
    "# define a helper function to store and recur through the table\n",
    "def helper(b,x,i,j, seq):\n",
    "    \"\"\"\n",
    "    Helper function for recursion\n",
    "    \n",
    "    Inputs:\n",
    "    - b: a list of lists of strings OR a numpy array, returned by lcs_length\n",
    "    - x: string, an input to lcs_length\n",
    "    - i, j: ints. print_lcs(b,x,i,j) returns a lcs of x[:i] and y[:j], where y\n",
    "    is an input to lcs_length.\n",
    "    - seq: the current sequence identified at each point of the recursion\n",
    "    \n",
    "    Outputs:\n",
    "    - seq: the final sequence after traversing the table\n",
    "        \n",
    "    \"\"\"    \n",
    "    if i == 0 or j == 0:\n",
    "        return 0\n",
    "    if b[i][j] == \"NW\":\n",
    "        helper(b, x, i-1, j-1, seq)\n",
    "        seq.append(x[i-1])\n",
    "    elif b[i][j] == \"N\":\n",
    "        helper(b, x, i-1, j, seq)\n",
    "    else:\n",
    "        helper(b, x, i, j-1, seq)\n",
    "    return seq"
   ]
  },
  {
   "cell_type": "code",
   "execution_count": 29,
   "metadata": {
    "deletable": false,
    "editable": false
   },
   "outputs": [],
   "source": [
    "import numpy as np\n",
    "x, y = 'ambgdec', 'aubyci'\n",
    "c, b = lcs_length(x, y)\n",
    "assert(print_lcs(b,x,len(x)-1,len(y)-1)[0] == ['a', 'b', 'c'])\n",
    "assert(print_lcs(b,x,len(x)-1,len(y)-1)[1] == 3)\n",
    "\n",
    "x, y = 'xyqwsssazdesaqqf', 'xoppoypllzookjdef'\n",
    "c, b = lcs_length(x, y)\n",
    "assert(print_lcs(b,x,len(x)-1,len(y)-1)[0]  == ['x', 'y', 'z', 'd', 'e', 'f'])\n",
    "assert(print_lcs(b,x,len(x)-1,len(y)-1)[1]  == 6)"
   ]
  },
  {
   "cell_type": "markdown",
   "metadata": {
    "deletable": false,
    "editable": false
   },
   "source": [
    "## Question 2. (Adapted from Exercise 15-4.1 Cormen et al.) [time estimate: 3 minutes]\n",
    "Use the functions built in Question 1 to find the LCS of ```'10010101'``` and ```'010110110'```. You should store the list that represents the LCS you found in a variable named ```lcs_q2```"
   ]
  },
  {
   "cell_type": "code",
   "execution_count": 30,
   "metadata": {},
   "outputs": [
    {
     "name": "stdout",
     "output_type": "stream",
     "text": [
      "[1, 0, 0, 1, 1, 0]\n"
     ]
    }
   ],
   "source": [
    "seq_1 = [1,0,0,1,0,1,0,1]\n",
    "seq_2 = [0,1,0,1,1,0,1,1,0]\n",
    "\n",
    "lcs_q2 = print_lcs(lcs_length(seq_1, seq_2)[1], seq_1, len(seq_1)-1, len(seq_2)-1)[0]\n",
    "print(lcs_q2)"
   ]
  },
  {
   "cell_type": "markdown",
   "metadata": {
    "deletable": false,
    "editable": false
   },
   "source": [
    "## Question 3. (Adapted from Exercise 15-4.5 Cormen et al.) [time estimate: 15 minutes]\n",
    "Complete the following function, making use of ```lcs_length``` and ```print_lcs```."
   ]
  },
  {
   "cell_type": "code",
   "execution_count": 31,
   "metadata": {},
   "outputs": [],
   "source": [
    "def lmis(lst):\n",
    "    \"\"\"\n",
    "    Finds the Longest Monotonically Increasing Subsequence (LMIS) of a list \n",
    "    (lst) of n numbers in O(n^2) time. Note that a monotonically increasing \n",
    "    sequence is a sequence of numbers such that: a_1 <= a_2 <= ... <= a_n .\n",
    "    \n",
    "    Inputs:\n",
    "    - lst: a list of ints\n",
    "    \n",
    "    Outputs:\n",
    "    - out_lst: a list of ints, a longest monotonically increasing subsequence\n",
    "    of lst\n",
    "    \"\"\"\n",
    "    # if we sort the list, the LCS of list will equate to the LMIS\n",
    "    list_sorted = sorted(lst)\n",
    "    \n",
    "    out_lst = print_lcs(lcs_length(lst, list_sorted)[1], lst, len(lst)-1, len(list_sorted)-1)[0]\n",
    "    \n",
    "    return out_lst"
   ]
  },
  {
   "cell_type": "code",
   "execution_count": 42,
   "metadata": {},
   "outputs": [],
   "source": [
    "# test cases\n",
    "assert(lmis([13, 3, -3, 1, 5, 12, -1, 17, 0]) == [-3, 1, 5, 12, 17]) # negative numbers\n",
    "assert(lmis([13, 3, 2, 2, 1, -4 ,2, 5]) == [2, 2, 2, 5]) # duplicates"
   ]
  },
  {
   "cell_type": "markdown",
   "metadata": {
    "deletable": false,
    "editable": false
   },
   "source": [
    "## Question 4 [time estimate: 5 minutes]\n",
    "How would you devise a greedy algorithm to compute the longest common subsequence in a string? Explain your strategy step by step, and comment on any advantages/limitations over the dynamic programming approach. Provide a few test cases to check the validity of the greedy approach."
   ]
  },
  {
   "cell_type": "markdown",
   "metadata": {},
   "source": [
    "In order to construct a greedy algorithm, we need to fulfill the following steps:\n",
    "1. creating another table that tracks the subproblem of matching strings between the two strings\n",
    "2. devising an algorithm that goes through string from left to right\n",
    "3. using the table, finding the optimal solution (longest length of common sequence) at each subproblem (for each matched string)\n",
    "4. storing the maximum length (optimal subproblem) of each position before to compare with the current position -- if the current one is larger, discard the last value; if not, discard the current value)\n",
    "\n",
    "This greedy approach has the advantage of decreasing the number of strings traversed. By discarding the unmatched strings and by only storing the optimal solution at each solution, we can decrease the number strings traversed. \n",
    "\n",
    "One test case would be checking if the results are the same with the dynamic programming approach since greedy algorithms do not necessary guarantee the optimal solution. The other case would be trying to see if the optimal choice is being selected at each subproblem, which makes it greedy if true."
   ]
  },
  {
   "cell_type": "code",
   "execution_count": null,
   "metadata": {},
   "outputs": [],
   "source": []
  }
 ],
 "metadata": {
  "kernelspec": {
   "display_name": "Python 3",
   "language": "python",
   "name": "python3"
  },
  "language_info": {
   "codemirror_mode": {
    "name": "ipython",
    "version": 3
   },
   "file_extension": ".py",
   "mimetype": "text/x-python",
   "name": "python",
   "nbconvert_exporter": "python",
   "pygments_lexer": "ipython3",
   "version": "3.7.4"
  }
 },
 "nbformat": 4,
 "nbformat_minor": 4
}
