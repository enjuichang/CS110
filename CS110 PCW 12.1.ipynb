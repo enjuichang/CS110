{
 "cells": [
  {
   "cell_type": "markdown",
   "metadata": {},
   "source": [
    "Before you turn this problem in, make sure everything runs as expected. First, **restart the kernel** (in the menubar, select Kernel$\\rightarrow$Restart) and then **run all cells** (in the menubar, select Cell$\\rightarrow$Run All).\n",
    "\n",
    "Note that this Pre-class Work is estimated to take **40 minutes**.\n",
    "\n",
    "Make sure you fill in any place that says `YOUR CODE HERE` or \"YOUR ANSWER HERE\", as well as your name and collaborators below:"
   ]
  },
  {
   "cell_type": "code",
   "execution_count": 1,
   "metadata": {},
   "outputs": [],
   "source": [
    "NAME = \"Enjui Chang\"\n",
    "COLLABORATORS = \"Cameron Watts\""
   ]
  },
  {
   "cell_type": "markdown",
   "metadata": {},
   "source": [
    "---"
   ]
  },
  {
   "cell_type": "markdown",
   "metadata": {
    "deletable": false,
    "editable": false,
    "nbgrader": {
     "checksum": "66e4a5cae0e361c97d6c83e84754f7bb",
     "grade": false,
     "grade_id": "cell-aedfb9351c4dd419",
     "locked": true,
     "schema_version": 1,
     "solution": false
    }
   },
   "source": [
    "# CS110 Pre-class Work - Huffman codes\n",
    "\n",
    "In this Pre-class work we will apply Huffman's algorithm in file compression. \n",
    "\n",
    "## Question 1 [time estimate: 2 minutes]\n",
    "Below is the utility function for downloading a text file from a URL. "
   ]
  },
  {
   "cell_type": "code",
   "execution_count": 2,
   "metadata": {
    "deletable": false,
    "editable": false,
    "nbgrader": {
     "checksum": "b4cfc6776ba647ea042e50771b3d8483",
     "grade": false,
     "grade_id": "cell-b84ee6c499c87372",
     "locked": true,
     "schema_version": 1,
     "solution": false
    }
   },
   "outputs": [],
   "source": [
    "from urllib.request import urlopen\n",
    "import shutil\n",
    "import gzip\n",
    "import os\n",
    "\n",
    "# Download the file if need be:\n",
    "def download_file(url, filename):\n",
    "    if not os.path.exists(filename):\n",
    "        response = urlopen(url + filename)\n",
    "        shutil.copyfileobj(\n",
    "            gzip.GzipFile(fileobj=response), open(filename+'.txt', 'wb'))\n",
    "\n",
    "url = \"http://www.gutenberg.org/ebooks/\"\n",
    "filename = \"100.txt.utf-8\"\n",
    "\n",
    "download_file(url, filename) "
   ]
  },
  {
   "cell_type": "markdown",
   "metadata": {
    "deletable": false,
    "editable": false,
    "nbgrader": {
     "checksum": "8a077d16d8c9d48ba47b01467d9fd9c2",
     "grade": false,
     "grade_id": "cell-c2e379e275938e68",
     "locked": true,
     "schema_version": 1,
     "solution": false
    }
   },
   "source": [
    "Your tasks:\n",
    "\n",
    "1. Run the cell so that the file \"100.txt.utf-8\" is downloaded to your local machine. Please allow some time for the code to complete.\n",
    "2. Check that the file \"100.txt.utf-8\" has been downloaded to your computer.\n",
    "3. Open and view the file with your favorite text editor. \n",
    "4. In the cell below, write down the size of the downloaded file (for example, 1.2GB)"
   ]
  },
  {
   "cell_type": "markdown",
   "metadata": {
    "deletable": false,
    "nbgrader": {
     "checksum": "f18750524ace65719b91a60e8d9a43b8",
     "grade": true,
     "grade_id": "cell-b83cd656878410be",
     "locked": false,
     "points": 0,
     "schema_version": 1,
     "solution": true
    }
   },
   "source": [
    "5.5MB"
   ]
  },
  {
   "cell_type": "markdown",
   "metadata": {
    "deletable": false,
    "editable": false,
    "nbgrader": {
     "checksum": "80849f8ac566ae2fe64a35cc8c8e882d",
     "grade": false,
     "grade_id": "cell-5ffca685c11b6b4d",
     "locked": true,
     "schema_version": 1,
     "solution": false
    }
   },
   "source": [
    "## Question 2 [time estimate: 8 minutes]\n",
    "\n",
    "Now, as a bit of an interlude, we will get familiar with the `bitarray` Python library, which is helpful for completing this pre-class work. Go to this [link](https://pypi.org/project/bitarray/) and read the examples in the first three cell of section **Using the module**. Once you complete the reading task, please complete the function `get_bit_array` in the cell below."
   ]
  },
  {
   "cell_type": "code",
   "execution_count": 3,
   "metadata": {
    "deletable": false,
    "nbgrader": {
     "checksum": "ec3c2a880c1c14e2d359fac0dada1c28",
     "grade": false,
     "grade_id": "cell-7ba9ec08bcd38455",
     "locked": false,
     "schema_version": 1,
     "solution": true
    }
   },
   "outputs": [],
   "source": [
    "from bitarray import bitarray\n",
    "\n",
    "class Node(object):\n",
    "    \"\"\"\n",
    "    A node in a binary tree that represents a prefix code.\n",
    "    \n",
    "    Attributes\n",
    "    ----------\n",
    "    freq : float\n",
    "        Frequency of the character\n",
    "    symb : str\n",
    "        A character in the file \n",
    "    parent : a node, optional\n",
    "        Parent of the current node in the tree\n",
    "    lchild : a node, optional\n",
    "        Left child node of the current node in the tree\n",
    "    rchild: a node, optional\n",
    "        Right child node of the current node in the tree\n",
    "\n",
    "    \"\"\"\n",
    "    \n",
    "    def __init__(self, freq, symb, parent = None, lchild = None, rchild = None):\n",
    "        self.freq = freq\n",
    "        self.symb = symb\n",
    "        self.parent = parent\n",
    "        self.lchild = lchild\n",
    "        self.rchild = rchild\n",
    "    \n",
    "    def __lt__(self, other):\n",
    "        \"\"\"\n",
    "        This function allow us push/insert a node into a heap as well as\n",
    "        extract/pop the minimum node from a heap. \n",
    "        \n",
    "        You can brush up your memory on heaps by visiting this link:\n",
    "        https://docs.python.org/3.0/library/heapq.html\n",
    "        \n",
    "        Note\n",
    "        ----\n",
    "        nodeA < nodeB returns True if nodeA.freq < nodeB.freq\n",
    "        \n",
    "        \"\"\"\n",
    "        return self.freq < other.freq\n",
    "    \n",
    "    \n",
    "def get_bitarray(node):\n",
    "    \"\"\"\n",
    "    Given a node in the tree, determines the corresponding codeword for character\n",
    "    node.symb, using the rule in Cormen et al.: the binary codeword for a character \n",
    "    is the simple path from the root to that character, where 0 means “go to the \n",
    "    left child” and 1 means “go to the right child.\n",
    "    \n",
    "    Parameters\n",
    "    ----------\n",
    "    node: a node\n",
    "        A node whose codeword represented by the tree is of interest\n",
    "    \n",
    "    Returns\n",
    "    -------\n",
    "    a : bitarray\n",
    "        A bit array that represents the codeword. \n",
    "        \n",
    "    Example\n",
    "    -------\n",
    "    If the codeword is 01001, then a is bitarray('01001')\n",
    "    \n",
    "    \"\"\"\n",
    "    # empty list for storage\n",
    "    a = []\n",
    "    \n",
    "    # when there is a parent, interatively run the function\n",
    "    while node.parent:\n",
    "    \n",
    "        # if the node is the left child return 1\n",
    "        if node.parent.lchild == node:\n",
    "            a.append(True)\n",
    "            \n",
    "\n",
    "        # if the node is the left child return 0\n",
    "        else:\n",
    "            node.parent.rchild == node\n",
    "            a.append(False)\n",
    "        \n",
    "        # change the pointer to the parent node\n",
    "        node = node.parent\n",
    "        \n",
    "    # reverse becuase how append works\n",
    "    a.reverse()\n",
    "    \n",
    "    # classify as bitarray\n",
    "    a = bitarray(a)\n",
    "    return a"
   ]
  },
  {
   "cell_type": "markdown",
   "metadata": {
    "deletable": false,
    "editable": false,
    "nbgrader": {
     "checksum": "2fe3268d072490748502ac5657baf039",
     "grade": false,
     "grade_id": "cell-30c0c74327992b26",
     "locked": true,
     "schema_version": 1,
     "solution": false
    }
   },
   "source": [
    "## Question 3 [time estimate: 10 minutes]\n",
    "\n",
    "Complete the following function that builds a Huffman code, making use of `get_bitarray` and the module `heapq`. "
   ]
  },
  {
   "cell_type": "code",
   "execution_count": 4,
   "metadata": {
    "deletable": false,
    "nbgrader": {
     "checksum": "ff946fc33af51c13fefcf767c4f91292",
     "grade": false,
     "grade_id": "cell-a99a125161e64aac",
     "locked": false,
     "schema_version": 1,
     "solution": true
    }
   },
   "outputs": [],
   "source": [
    "import heapq\n",
    "def encode(symb2freq):\n",
    "    \"\"\"\n",
    "    Huffman encode the given dict mapping symbols to weights. \n",
    "    \n",
    "    Parameters\n",
    "    ----------\n",
    "    symb2freq : dict \n",
    "        A dictionary that maps a symbol/character to the probability frequency \n",
    "        in the text file. \n",
    "    \n",
    "    Returns\n",
    "    -------\n",
    "    out : dict\n",
    "         A dictionary that maps a symbol/charcater to a bitarray that represents the \n",
    "         codeword for that symbol. \n",
    "         \n",
    "    Examples\n",
    "    --------\n",
    "    symb2freq = {'a': .3, 'b':.6, 'c': .1}. This means that symbol 'a' appears with \n",
    "    frequency 30%, symbol 'b' 60%, and symbol 'c' 10%.\n",
    "        \n",
    "    out = {'a': bitarray('01'), 'b': bitarray('11'), 'c': bitarray('101')}.\n",
    "    \n",
    "    \"\"\"\n",
    "    \n",
    "    # find the length\n",
    "    n = len(symb2freq)\n",
    "    \n",
    "    # intialize storage\n",
    "    min_heap = []\n",
    "    all_leaf = []\n",
    "    \n",
    "    # create min_heap\n",
    "    for key, freq in symb2freq.items():\n",
    "        x = Node(freq,key)\n",
    "        heapq.heappush(min_heap,x) # push into heap\n",
    "        all_leaf.append(x) # additional list for dictionary construction\n",
    "    \n",
    "        \n",
    "    # build the tree \n",
    "    for i in range(n-1):\n",
    "        \n",
    "        # pop the the min nodes\n",
    "        x = heapq.heappop(min_heap)\n",
    "        y = heapq.heappop(min_heap)\n",
    "        \n",
    "        # construct a new nodes as the parents of x and y\n",
    "        z = Node(x.freq+y.freq, None, None, x, y)\n",
    "        \n",
    "        x.parent = z\n",
    "        y.parent = z\n",
    "        \n",
    "        # push the new node in the heap\n",
    "        heapq.heappush(min_heap,z)\n",
    "    \n",
    "    # create output dict\n",
    "    out = {}\n",
    "    for i in all_leaf:\n",
    "        out[i.symb] = get_bitarray(i)\n",
    "        \n",
    "    return out"
   ]
  },
  {
   "cell_type": "markdown",
   "metadata": {
    "deletable": false,
    "editable": false,
    "nbgrader": {
     "checksum": "cfdc434c6f29f0186e0bcadcec736d83",
     "grade": false,
     "grade_id": "cell-fa651be15a7f3559",
     "locked": true,
     "schema_version": 1,
     "solution": false
    }
   },
   "source": [
    "## Question 4 [time estimate: 7 minutes]\n",
    "\n",
    "Below you are given three functions to 1) build a frequency table for a file, 2) compress a file, and 3) decompress a file. Make use of these functions to do the following:\n",
    "\n",
    "1. Create a compressed version of file `100.txt.utf-8.txt` that is named `100.txt.utf-8.txt.huff`.\n",
    "2. Decompress `100.txt.utf-8.txt.huff` to file `100.txt.utf-8.txt.huff.dehuff.txt`. "
   ]
  },
  {
   "cell_type": "code",
   "execution_count": 5,
   "metadata": {
    "deletable": false,
    "nbgrader": {
     "checksum": "f1a7d2cdc3ec444c75a311ce72630ee3",
     "grade": false,
     "grade_id": "cell-7c911f3552280b25",
     "locked": false,
     "schema_version": 1,
     "solution": true
    }
   },
   "outputs": [],
   "source": [
    "from collections import defaultdict \n",
    "import pickle\n",
    "\n",
    "# build a frequency table:\n",
    "def build_freq(filename):\n",
    "    freq = defaultdict(int)\n",
    "    with open(filename, 'rb') as f:\n",
    "        for line in f:\n",
    "            for char in line:\n",
    "                freq[char] += 1\n",
    "    total = float(sum(freq.values()))\n",
    "    return {char: count / total for (char, count) in freq.items()}\n",
    "\n",
    "\n",
    "# Now compress the file:\n",
    "def compress(filename, encoding, compressed_name=None):\n",
    "    if compressed_name is None:\n",
    "        compressed_name = filename + \".huff\"\n",
    "    output = bitarray()\n",
    "    with open(filename, 'rb') as f:\n",
    "        for line in f:\n",
    "            for char in line:\n",
    "                output.extend(encoding[char])\n",
    "    N = len(output)\n",
    "    with open(compressed_name, 'wb') as f:\n",
    "        pickle.dump(N, f)\n",
    "        pickle.dump(encoding, f)\n",
    "        output.tofile(f)\n",
    "\n",
    "\n",
    "# Now decompress the file:\n",
    "def decompress(filename, decompressed_name=None):\n",
    "    if decompressed_name is None:\n",
    "        decompressed_name = filename + \".dehuff.txt\"\n",
    "    with open(filename, 'rb') as f:\n",
    "        N = pickle.load(f)\n",
    "        encoding = pickle.load(f)\n",
    "        bits = bitarray()\n",
    "        bits.fromfile(f)\n",
    "        bits = bits[:N]\n",
    "\n",
    "    # Totally cheating here and using a builtin method:\n",
    "    output = bits.decode(encoding)\n",
    "    with open(decompressed_name, 'wb') as f:\n",
    "        f.write(bytes(output))\n",
    "\n",
    "# build the frequent table\n",
    "freq_table = build_freq(\"100.txt.utf-8\")\n",
    "\n",
    "# encode the frequent table\n",
    "encoded = encode(freq_table)\n",
    "\n",
    "# compress the file\n",
    "compress(\"100.txt.utf-8\", encoded)\n",
    "\n",
    "# decompress the file\n",
    "decompress(\"100.txt.utf-8.huff\")"
   ]
  },
  {
   "cell_type": "markdown",
   "metadata": {
    "deletable": false,
    "editable": false,
    "nbgrader": {
     "checksum": "4df4ea196f6952f4b7e15d7ed2ea9430",
     "grade": false,
     "grade_id": "cell-b564d21e754a0461",
     "locked": true,
     "schema_version": 1,
     "solution": false
    }
   },
   "source": [
    "## Question 5 [time estimate: 3 minutes] \n",
    "\n",
    "Give your answer in the cell below:\n",
    "1. Report the size of the compressed file and the decompressed file in the cell below.\n",
    "2. How does the size of the decompressed file compare to the size of the original file (`100.txt.utf-8.txt`)?\n",
    "3. Visually skim the decompressed file and the original file. Do they appear identical?"
   ]
  },
  {
   "cell_type": "markdown",
   "metadata": {
    "deletable": false,
    "nbgrader": {
     "checksum": "4c171a626010799721ff7c9e3ac9a22a",
     "grade": true,
     "grade_id": "cell-b5988d6026475a88",
     "locked": false,
     "points": 0,
     "schema_version": 1,
     "solution": true
    }
   },
   "source": [
    "1. 100.txt.utf-8.txt: 5.5 MB\n",
    "2. 100.txt.utf-8.txt.huff: 3.2 MB\n",
    "3. 100.txt.utf-8.txt.dehuff.txt: 5.5 MB\n",
    "\n",
    "The decompressed file is the same size as the original file and they appear identical to each other."
   ]
  },
  {
   "cell_type": "markdown",
   "metadata": {
    "deletable": false,
    "editable": false,
    "nbgrader": {
     "checksum": "499835f219f42c8fb92f0ac6136707a4",
     "grade": false,
     "grade_id": "cell-b9ea500bebcac4dd",
     "locked": true,
     "schema_version": 1,
     "solution": false
    }
   },
   "source": [
    "## Question 6 [time estimate: 10 minutes]\n",
    "\n",
    "Compute and print out:\n",
    "1. The percentage of 1’s in the compressed version\n",
    "2. The percentage of 1’s in the uncompressed version"
   ]
  },
  {
   "cell_type": "code",
   "execution_count": 6,
   "metadata": {
    "deletable": false,
    "nbgrader": {
     "checksum": "e1287afdf6be4303ec9293e1894b9643",
     "grade": true,
     "grade_id": "cell-a1f9f58458cf80d5",
     "locked": false,
     "points": 0,
     "schema_version": 1,
     "solution": true
    }
   },
   "outputs": [],
   "source": [
    "# modify the frequency table to include the count of each character\n",
    "def build_freq_modified(filename):\n",
    "    freq = defaultdict(int)\n",
    "    with open(filename, 'rb') as f:\n",
    "        for line in f:\n",
    "            for char in line:\n",
    "                freq[char] += 1\n",
    "    total = float(sum(freq.values()))\n",
    "    return {char: count for (char, count) in freq.items()}\n",
    "\n",
    "# build the modified frequency table\n",
    "freq_table_uncompress = build_freq_modified(\"100.txt.utf-8\")\n",
    "freq_table_compress = build_freq_modified(\"100.txt.utf-8.huff\")"
   ]
  },
  {
   "cell_type": "code",
   "execution_count": 7,
   "metadata": {},
   "outputs": [
    {
     "name": "stdout",
     "output_type": "stream",
     "text": [
      "---Compressed---\n",
      "Percentage of 1s: 47.76543165862384 %\n",
      "Percentage of 0s: 52.23456834137616 %\n",
      "---Uncompressed---\n",
      "Percentage of 1s: 46.29646894848983 %\n",
      "Percentage of 0s: 53.70353105151017 %\n"
     ]
    }
   ],
   "source": [
    "# compressed version\n",
    "total_ones = 0\n",
    "total_zeros = 0\n",
    "total_bits = 0\n",
    "\n",
    "# encode the characters within this frequency table\n",
    "encoded = encode(freq_table_compress)\n",
    "\n",
    "for key, count in freq_table_compress.items():\n",
    "\n",
    "    # calculate the 1s, 0s, and bits for each character \n",
    "    ones = 0\n",
    "    zeros = 0\n",
    "    bits = 0\n",
    "    \n",
    "    for bit in encoded[key]:\n",
    "        bits += 1\n",
    "        if bit:\n",
    "            ones += 1\n",
    "        else:\n",
    "            zeros += 1\n",
    "    \n",
    "    # multiply by the count of each character\n",
    "    total_ones += ones * count\n",
    "    total_zeros += zeros * count\n",
    "    total_bits += bits * count\n",
    "\n",
    "# print the result\n",
    "print(\"---Compressed---\")\n",
    "print(\"Percentage of 1s:\", total_ones * 100 / total_bits, \"%\")\n",
    "print(\"Percentage of 0s:\", total_zeros * 100 / total_bits, \"%\")\n",
    "\n",
    "# uncompressed version\n",
    "total_ones = 0\n",
    "total_zeros = 0\n",
    "total_bits = 0\n",
    "\n",
    "# encode the characters within this frequency table\n",
    "encoded = encode(freq_table_uncompress)\n",
    "\n",
    "for key, count in freq_table_uncompress.items():\n",
    "\n",
    "    # calculate the 1s, 0s, and bits for each character \n",
    "    ones = 0\n",
    "    zeros = 0\n",
    "    bits = 0\n",
    "    \n",
    "    for bit in encoded[key]:\n",
    "        bits += 1\n",
    "        if bit:\n",
    "            ones += 1\n",
    "        else:\n",
    "            zeros += 1\n",
    "    \n",
    "    # multiply by the count of each character\n",
    "    total_ones += ones * count\n",
    "    total_zeros += zeros * count\n",
    "    total_bits += bits * count\n",
    "\n",
    "# print the result\n",
    "print(\"---Uncompressed---\")\n",
    "print(\"Percentage of 1s:\", total_ones * 100 / total_bits, \"%\")\n",
    "print(\"Percentage of 0s:\", total_zeros * 100 / total_bits, \"%\")"
   ]
  }
 ],
 "metadata": {
  "kernelspec": {
   "display_name": "Python 3",
   "language": "python",
   "name": "python3"
  },
  "language_info": {
   "codemirror_mode": {
    "name": "ipython",
    "version": 3
   },
   "file_extension": ".py",
   "mimetype": "text/x-python",
   "name": "python",
   "nbconvert_exporter": "python",
   "pygments_lexer": "ipython3",
   "version": "3.7.4"
  }
 },
 "nbformat": 4,
 "nbformat_minor": 2
}
