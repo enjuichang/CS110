{
 "cells": [
  {
   "cell_type": "markdown",
   "metadata": {},
   "source": [
    "Before you turn this problem in, make sure everything runs as expected. First, **restart the kernel** (in the menubar, select Kernel$\\rightarrow$Restart) and then **run all cells** (in the menubar, select Cell$\\rightarrow$Run All).\n",
    "\n",
    "Note that this Pre-class Work is estimated to take **31 minutes**.\n",
    "\n",
    "Make sure you fill in any place that says `YOUR CODE HERE` or \"YOUR ANSWER HERE\", as well as your name and collaborators below:"
   ]
  },
  {
   "cell_type": "code",
   "execution_count": 1,
   "metadata": {},
   "outputs": [],
   "source": [
    "NAME = \"Enjui Chang\"\n",
    "COLLABORATORS = \"\""
   ]
  },
  {
   "cell_type": "markdown",
   "metadata": {},
   "source": [
    "---"
   ]
  },
  {
   "cell_type": "markdown",
   "metadata": {
    "deletable": false,
    "editable": false,
    "nbgrader": {
     "checksum": "df135f0c4ea26cc7c0b25cb64a20e634",
     "grade": false,
     "grade_id": "cell-b46066345313bea6",
     "locked": true,
     "schema_version": 1,
     "solution": false
    }
   },
   "source": [
    "# CS110 Pre-class Work - Measuring algorithms' efficiency\n",
    "\n",
    "## Question 1 [time estimate: 15 minutes]\n",
    "\n",
    "Copy and paste the code for Insertion, Selection, and Bubble sort algorithms you wrote in Lesson \"Analyzing elementary sorting algorithm\" on the cells below. For each sorting algorithm, modify the code to introduce step counters. Your functions should return only the number of steps they took to sort the list. This will help you in a in-class activity for this lesson and for the PCW of the next lesson. Make sure to test your code by provinding different input lists of different sizes."
   ]
  },
  {
   "cell_type": "code",
   "execution_count": 2,
   "metadata": {
    "deletable": false,
    "nbgrader": {
     "checksum": "525698a22b0cee9c4cb74be2011232de",
     "grade": true,
     "grade_id": "cell-1eadb1312ac0519d",
     "locked": false,
     "points": 0,
     "schema_version": 1,
     "solution": true
    }
   },
   "outputs": [],
   "source": [
    "def insertion_sort(A):\n",
    "    count = 0\n",
    "    for j in range(1, len(A)): \n",
    "        count += 1\n",
    "        key = A[j]\n",
    "        i= j-1\n",
    "        while i >= 0 and A[i]>key:\n",
    "            count += 1\n",
    "            A[i+1] = A[i]\n",
    "            i -= 1\n",
    "        count += 1\n",
    "        A[i+1] = key\n",
    "    return count"
   ]
  },
  {
   "cell_type": "code",
   "execution_count": 3,
   "metadata": {
    "deletable": false,
    "nbgrader": {
     "checksum": "525698a22b0cee9c4cb74be2011232de",
     "grade": true,
     "grade_id": "cell-1eadb1312ac0519d",
     "locked": false,
     "points": 0,
     "schema_version": 1,
     "solution": true
    }
   },
   "outputs": [],
   "source": [
    "def bubble_sort(A):\n",
    "    count = 0\n",
    "    for i in range(len(A)-1):\n",
    "        count += 1\n",
    "        for j in range(len(A)-1,i,-1):\n",
    "            #count += 1\n",
    "            if A[j] < A[j-1]:\n",
    "                count += 1\n",
    "                temp = A[j]\n",
    "                A[j] = A[j-1]\n",
    "                A[j-1] = temp\n",
    "    return count"
   ]
  },
  {
   "cell_type": "code",
   "execution_count": 4,
   "metadata": {
    "deletable": false,
    "nbgrader": {
     "checksum": "525698a22b0cee9c4cb74be2011232de",
     "grade": true,
     "grade_id": "cell-1eadb1312ac0519d",
     "locked": false,
     "points": 0,
     "schema_version": 1,
     "solution": true
    }
   },
   "outputs": [],
   "source": [
    "def selection_sort(A):\n",
    "    count = 0\n",
    "    n=len(A)\n",
    "    for i in range(n-1):\n",
    "        count +=1\n",
    "        minidx = i\n",
    "        for j in range(i+1,n):\n",
    "            count += 1\n",
    "            if A[j] < A[minidx]:\n",
    "                count +=1\n",
    "                minidx = j\n",
    "        count += 1\n",
    "        temp = A[i]\n",
    "        A[i] = A[minidx]\n",
    "        A[minidx]= temp           \n",
    "    return count"
   ]
  },
  {
   "cell_type": "code",
   "execution_count": 5,
   "metadata": {},
   "outputs": [
    {
     "name": "stdout",
     "output_type": "stream",
     "text": [
      "Insertion Sort:  15 10 25\n",
      "Bubble Sort:  10 5 20\n",
      "Selection Sort:  29 25 34\n"
     ]
    }
   ],
   "source": [
    "#Test the step counter\n",
    "a=[3,6,-1,2,3,6]\n",
    "b=[1,2,3,4,5,6]\n",
    "c=[3,2,1,-1,-2,-3]\n",
    "I_A=insertion_sort(a)\n",
    "I_B=insertion_sort(b)\n",
    "I_C=insertion_sort(c)\n",
    "a=[3,6,-1,2,3,6]\n",
    "b=[1,2,3,4,5,6]\n",
    "c=[3,2,1,-1,-2,-3]\n",
    "B_A=bubble_sort(a)\n",
    "B_B=bubble_sort(b)\n",
    "B_C=bubble_sort(c)\n",
    "a=[3,6,-1,2,3,6]\n",
    "b=[1,2,3,4,5,6]\n",
    "c=[3,2,1,-1,-2,-3]\n",
    "S_A=selection_sort(a)\n",
    "S_B=selection_sort(b)\n",
    "S_C=selection_sort(c)\n",
    "\n",
    "print(\"Insertion Sort: \",I_A,I_B,I_C)\n",
    "print(\"Bubble Sort: \",B_A,B_B,B_C)\n",
    "print(\"Selection Sort: \",S_A,S_B,S_C)"
   ]
  },
  {
   "cell_type": "markdown",
   "metadata": {
    "deletable": false,
    "editable": false,
    "nbgrader": {
     "checksum": "9d7a3b260b0fef93382fb52aa393f963",
     "grade": false,
     "grade_id": "cell-0ac1c20b43acb363",
     "locked": true,
     "schema_version": 1,
     "solution": false
    }
   },
   "source": [
    "## Question 2 [time estimate: 10 minutes]\n",
    "\n",
    "Studying these sorting algorithms in detail, identify for which kinds of input they would perform better or worst in completing the task of sorting a list. Give examples to complement your answer."
   ]
  },
  {
   "cell_type": "markdown",
   "metadata": {
    "deletable": false,
    "nbgrader": {
     "checksum": "eb02c9951e19ee43d128fa93dd53eaad",
     "grade": true,
     "grade_id": "cell-5ecb51404140cb2f",
     "locked": false,
     "points": 0,
     "schema_version": 1,
     "solution": true
    }
   },
   "source": [
    "- **Insertion Sort**\n",
    "    - Best-case input: A sorted list, e.g., [1,2,3,4,5,6]\n",
    "    - Worst-case input: A reversed sorted list, e.g., [3,2,1,-1,-2,-3]\n",
    "    \n",
    "- **Bubble Sort**\n",
    "    - Best-case input: A sorted list, e.g., [1,2,3,4,5,6]\n",
    "    - Worst-case input: A reversed sorted list, e.g., [3,2,1,-1,-2,-3]\n",
    "    \n",
    "- **Selection Sort**\n",
    "    - Best-case input:  A sorted list, e.g., [1,2,3,4,5,6]\n",
    "    - Worst-case input: A reversed sorted list, e.g., [3,2,1,-1,-2,-3]"
   ]
  },
  {
   "cell_type": "markdown",
   "metadata": {
    "deletable": false,
    "editable": false,
    "nbgrader": {
     "checksum": "cb0b8b9c4b153530d47b437baa24098d",
     "grade": false,
     "grade_id": "cell-b22dce6b32afe1a9",
     "locked": true,
     "schema_version": 1,
     "solution": false
    }
   },
   "source": [
    "## Question 3 [time estimate: 3 minutes]\n",
    "\n",
    "Given your answers to the previous question, is there any algorithm that performs asymptotically the same for any kind of input? Explain your answer."
   ]
  },
  {
   "cell_type": "markdown",
   "metadata": {
    "deletable": false,
    "nbgrader": {
     "checksum": "4ff5af35daed9a5442ba229263bdde33",
     "grade": true,
     "grade_id": "cell-442998d5fdd8b561",
     "locked": false,
     "points": 0,
     "schema_version": 1,
     "solution": true
    }
   },
   "source": [
    "The worse-case scenario of all sorting algorithm above is $O(n^2)$, since there are two loops nested in each example and all elements needs to go through the two loops in the worse-case. However, in the best-case scenario, insertion sort and bubble sort have an asymptotic efficiency of $\\Omega(n)$ since the second nested loop would be completely avoided resulting in all elements only running through the first loop."
   ]
  },
  {
   "cell_type": "markdown",
   "metadata": {
    "deletable": false,
    "editable": false,
    "nbgrader": {
     "checksum": "cb0b8b9c4b153530d47b437baa24098d",
     "grade": false,
     "grade_id": "cell-b22dce6b32afe1a9",
     "locked": true,
     "schema_version": 1,
     "solution": false
    }
   },
   "source": [
    "## Question 4 [time estimate: 3 minutes]\n",
    "\n",
    "Besides the step counters you introduced and the algorithms' running times you studied in the previous session, can you think of other metrics you could use to measure an algorithm's efficiency? Explain your reasoning."
   ]
  },
  {
   "cell_type": "markdown",
   "metadata": {
    "nbgrader": {
     "checksum": "4ff5af35daed9a5442ba229263bdde33",
     "grade": true,
     "grade_id": "cell-442998d5fdd8b561",
     "locked": false,
     "points": 0,
     "schema_version": 1,
     "solution": true
    }
   },
   "source": [
    "Order of growth is one other metric that could be used. Order of growth describes the increase in running time when the number of items in the list is large enough (or asymptotic efficiency). As in $f(x) = n^2 + n + 100$, when the n = 100000, the only thing that matters is $n^2$ rather than the other component of the $f(x)$. The most common of these metric would be big-O notation and big-Θ notation, both describing the asymptotic bound of the algorithm."
   ]
  }
 ],
 "metadata": {
  "kernelspec": {
   "display_name": "Python 3",
   "language": "python",
   "name": "python3"
  },
  "language_info": {
   "codemirror_mode": {
    "name": "ipython",
    "version": 3
   },
   "file_extension": ".py",
   "mimetype": "text/x-python",
   "name": "python",
   "nbconvert_exporter": "python",
   "pygments_lexer": "ipython3",
   "version": "3.7.4"
  }
 },
 "nbformat": 4,
 "nbformat_minor": 2
}
