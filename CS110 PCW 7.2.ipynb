{
 "cells": [
  {
   "cell_type": "markdown",
   "metadata": {},
   "source": [
    "Before you turn this problem in, make sure everything runs as expected. First, **restart the kernel** (in the menubar, select Kernel$\\rightarrow$Restart) and then **run all cells** (in the menubar, select Cell$\\rightarrow$Run All).\n",
    "\n",
    "Note that this Pre-class Work is estimated to take **44 minutes**.\n",
    "\n",
    "Make sure you fill in any place that says `YOUR CODE HERE` or \"YOUR ANSWER HERE\", as well as your name and collaborators below:"
   ]
  },
  {
   "cell_type": "code",
   "execution_count": 1,
   "metadata": {},
   "outputs": [],
   "source": [
    "NAME = \"Enjui Chang\"\n",
    "COLLABORATORS = \"\""
   ]
  },
  {
   "cell_type": "markdown",
   "metadata": {},
   "source": [
    "---"
   ]
  },
  {
   "cell_type": "markdown",
   "metadata": {
    "deletable": false,
    "nbgrader": {
     "checksum": "a2025a945eae66ffac9bc4836ac511db",
     "grade": false,
     "grade_id": "cell-f534ec91df9dff5f",
     "locked": true,
     "schema_version": 1,
     "solution": false
    }
   },
   "source": [
    "# CS110 Pre-class Work - Randomized quicksort\n",
    "\n",
    "## Part A. Median-of-3 partitioning quicksort \n",
    "\n",
    "## Question 1 [time estimate: 10 minutes]\n",
    "\n",
    "Read through the following Python code. What does each function (i.e., median, qsort, randomized_qsort, test_qsort) do? Comment in details each function. \n"
   ]
  },
  {
   "cell_type": "code",
   "execution_count": 2,
   "metadata": {},
   "outputs": [
    {
     "name": "stdout",
     "output_type": "stream",
     "text": [
      "0.05789151900000178\n"
     ]
    }
   ],
   "source": [
    "import timeit\n",
    "import random\n",
    "\n",
    "#intialize variables and the three locations for partitioning\n",
    "eps = 1e-16\n",
    "N = 10000\n",
    "locations = [0.0, 0.5, 1.0 - eps]\n",
    "\n",
    "def median(x1, x2, x3):\n",
    "    \"\"\"\n",
    "    Input: Three values (int or float)\n",
    "    \n",
    "    Output: Median number of the three values\n",
    "    \"\"\"\n",
    "    if (x1 < x2 < x3) or (x3 < x2 < x1): #return if x2 is the median\n",
    "        return x2\n",
    "    elif (x1 < x3 < x2) or (x2 < x3 < x1):  #return if x3 is the median\n",
    "        return x3\n",
    "    else:\n",
    "        return x1 #return if x1 is the median\n",
    "    \n",
    "def qsort(lst):\n",
    "    \"\"\"\n",
    "    the main qsort function\n",
    "    ---\n",
    "    Input: An unsorted list (int or floats)\n",
    "    \n",
    "    Output: sorted list\n",
    "    \"\"\"\n",
    "    indices = [(0, len(lst))] #intialize the stored indices\n",
    "\n",
    "    while indices: #run when indices is not empty\n",
    "        (frm, to) = indices.pop() #find the length of the subproblem\n",
    "        \n",
    "        if frm == to: #if the two values are equal, exit the loop\n",
    "            continue\n",
    "\n",
    "        # Find the partition:\n",
    "        N = to - frm #find the length of the sublist\n",
    "        \n",
    "        #find the index of the initial, center, and last element\n",
    "        inds = [frm + int(N * n) for n in locations] \n",
    "        \n",
    "        #find the values of the initial, center, and last element\n",
    "        values = [lst[ind] for ind in inds]\n",
    "        \n",
    "        #find the parition by choosing the median of the three\n",
    "        partition = median(*values)\n",
    "\n",
    "        # Split into lists:\n",
    "        lower = [a for a in lst[frm:to] if a < partition] #lower than partition\n",
    "        upper = [a for a in lst[frm:to] if a > partition] #higher than partition\n",
    "        counts = sum([1 for a in lst[frm:to] if a == partition]) #number equal to partition\n",
    "        \n",
    "        #find the length of the sublists\n",
    "        ind1 = frm + len(lower)\n",
    "        ind2 = ind1 + counts\n",
    "        \n",
    "        # Push back into correct place:\n",
    "        lst[frm:ind1] = lower #the first half is the lower sublist\n",
    "        lst[ind1:ind2] = [partition] * counts #the middle is value same as the partition\n",
    "        lst[ind2:to] = upper #the last half is the upper sublist\n",
    "\n",
    "        # Enqueue other locations\n",
    "        indices.append((frm, ind1)) #push the indices of the lower sublist\n",
    "        indices.append((ind2, to)) #push the indices of the upper sublist\n",
    "    return lst\n",
    "\n",
    "def randomized_quicksort():\n",
    "    \"\"\"\n",
    "    Randomly generated an unsorted list, outputs the sorted list\n",
    "    ---\n",
    "    Input: None\n",
    "    \n",
    "    Output: A sorted list\n",
    "    \"\"\"\n",
    "    lst = [i for i in range(N)] #create a list of consecutive integers\n",
    "    random.shuffle(lst) #sufffle the list so it's a random list\n",
    "    return qsort(lst)\n",
    "\n",
    "def test_quicksort():\n",
    "    \"\"\"\n",
    "    Test if the algorithm works for any combinations of list with length N\n",
    "    ---\n",
    "    Input: Three values (int or float)\n",
    "    \n",
    "    Output: Median number of the three\n",
    "    \"\"\"\n",
    "    lst = randomized_quicksort() #take the unsorted from randomized_quicksort\n",
    "    assert (lst == [i for i in range(N)]) #see if it is sorted\n",
    "\n",
    "\n",
    "# Is our algorithm correct\n",
    "test_quicksort()\n",
    "\n",
    "# How fast is our algorithm\n",
    "print(timeit.timeit(randomized_quicksort, number=1))"
   ]
  },
  {
   "cell_type": "markdown",
   "metadata": {
    "deletable": false,
    "editable": false,
    "nbgrader": {
     "checksum": "61fb11bff1434e4b7276c7443b0267c6",
     "grade": false,
     "grade_id": "cell-a2b2429aa4e81403",
     "locked": true,
     "schema_version": 1,
     "solution": false
    }
   },
   "source": [
    "## Question 2 [time estimate: 3 minutes]\n",
    "\n",
    "What are the main differences between the `randomized_quicksort` in the code and $RANDOMIZED-QUICKSORT$ in Cormen et al., besides that the partition of `randomized_quicksort` uses a median of 3 as a pivot?"
   ]
  },
  {
   "cell_type": "markdown",
   "metadata": {
    "deletable": false,
    "nbgrader": {
     "checksum": "8915b75d94bc194ba0f4e52e475063b4",
     "grade": true,
     "grade_id": "cell-4a3cd727ccac7404",
     "locked": false,
     "points": 0,
     "schema_version": 1,
     "solution": true
    }
   },
   "source": [
    "In `randomized_quicksort`, we are using an iterative method to build the algorithm, but in $RANDOMIZED-QUICKSORT$ we are taking a recursive approach to the problem."
   ]
  },
  {
   "cell_type": "markdown",
   "metadata": {
    "deletable": false,
    "editable": false,
    "nbgrader": {
     "checksum": "5853f10cab01212736d0e92ce408fa97",
     "grade": false,
     "grade_id": "cell-49bff57d4018e133",
     "locked": true,
     "schema_version": 1,
     "solution": false
    }
   },
   "source": [
    "## Question 3 [time estimate: 10 minutes]\n",
    "\n",
    "What is the time complexity of this `randomized_qsort`? Time the algorithm on lists of various lengths, each list being a list of the first $n$ consecutive positive integers. Produce a graph with list lengths on the x axis and running time on the y axis. As always, don’t forget to time the algorithm several times for each list’s length and then average the results. "
   ]
  },
  {
   "cell_type": "code",
   "execution_count": 3,
   "metadata": {
    "deletable": false,
    "nbgrader": {
     "checksum": "a321a7fcecb9c9cce252ea2c6030d4ce",
     "grade": true,
     "grade_id": "cell-e0e1dac71ac7feb6",
     "locked": false,
     "points": 0,
     "schema_version": 1,
     "solution": true
    }
   },
   "outputs": [
    {
     "data": {
      "text/plain": [
       "<Figure size 640x480 with 1 Axes>"
      ]
     },
     "metadata": {},
     "output_type": "display_data"
    }
   ],
   "source": [
    "import matplotlib.pyplot as plt\n",
    "\n",
    "#intialize storage\n",
    "runtime_lst_q3 = []\n",
    "runtime_dummy = []\n",
    "\n",
    "\n",
    "#number of iterations for averaging the runtime\n",
    "iteration = 20\n",
    "\n",
    "#iterate through different sizes of list\n",
    "for k in range(1,101,10):\n",
    "    N = k*100\n",
    "    #average the runtime for each list\n",
    "    for i in range(iteration):\n",
    "        runtime = timeit.timeit(randomized_quicksort, number=1)\n",
    "        runtime_dummy.append(runtime)\n",
    "    \n",
    "    #average the runtime for each length\n",
    "    runtime_lst_q3.append(sum(runtime_dummy)/iteration)\n",
    "\n",
    "#plot the graph\n",
    "k = [i for i in range(1, 101, 10)]\n",
    "plt.plot(k,runtime_lst_q3, label = \"Q3\")\n",
    "plt.xlabel(\"Length of list (hundreds)\")\n",
    "plt.ylabel(\"Runtime (s)\")\n",
    "plt.title(\"Runtime of Randomized Quicksort Algorithm for Different Length Sizes\")\n",
    "plt.legend()\n",
    "plt.show()"
   ]
  },
  {
   "cell_type": "markdown",
   "metadata": {
    "deletable": false,
    "editable": false,
    "nbgrader": {
     "checksum": "b8751f930d9dc208113425646ea7fea8",
     "grade": false,
     "grade_id": "cell-1e8309c07c2f2908",
     "locked": true,
     "schema_version": 1,
     "solution": false
    }
   },
   "source": [
    "## Question 4.\n",
    "\n",
    "### Question 4a [time estimate: 7 minutes]\n",
    "\n",
    "Change the `qsort()` function in a way that you **don’t** separate the items that are equal to the partition. \n"
   ]
  },
  {
   "cell_type": "code",
   "execution_count": 4,
   "metadata": {
    "deletable": false,
    "nbgrader": {
     "checksum": "797888f53fa36bcf0f9d891c4819d8e9",
     "grade": false,
     "grade_id": "cell-a9d1f063c0340b14",
     "locked": false,
     "schema_version": 1,
     "solution": true
    }
   },
   "outputs": [
    {
     "ename": "NameError",
     "evalue": "name 'lst' is not defined",
     "output_type": "error",
     "traceback": [
      "\u001b[0;31m---------------------------------------------------------------------------\u001b[0m",
      "\u001b[0;31mNameError\u001b[0m                                 Traceback (most recent call last)",
      "\u001b[0;32m<ipython-input-4-01a9bb9f9a21>\u001b[0m in \u001b[0;36m<module>\u001b[0;34m\u001b[0m\n\u001b[1;32m      5\u001b[0m \u001b[0mOutput\u001b[0m\u001b[0;34m:\u001b[0m \u001b[0msorted\u001b[0m \u001b[0mlist\u001b[0m\u001b[0;34m\u001b[0m\u001b[0;34m\u001b[0m\u001b[0m\n\u001b[1;32m      6\u001b[0m \"\"\"\n\u001b[0;32m----> 7\u001b[0;31m \u001b[0mindices\u001b[0m \u001b[0;34m=\u001b[0m \u001b[0;34m[\u001b[0m\u001b[0;34m(\u001b[0m\u001b[0;36m0\u001b[0m\u001b[0;34m,\u001b[0m \u001b[0mlen\u001b[0m\u001b[0;34m(\u001b[0m\u001b[0mlst\u001b[0m\u001b[0;34m)\u001b[0m\u001b[0;34m)\u001b[0m\u001b[0;34m]\u001b[0m \u001b[0;31m#intialize the stored indices\u001b[0m\u001b[0;34m\u001b[0m\u001b[0;34m\u001b[0m\u001b[0m\n\u001b[0m\u001b[1;32m      8\u001b[0m \u001b[0;34m\u001b[0m\u001b[0m\n\u001b[1;32m      9\u001b[0m \u001b[0;32mwhile\u001b[0m \u001b[0mindices\u001b[0m\u001b[0;34m:\u001b[0m \u001b[0;31m#run when indices is not empty\u001b[0m\u001b[0;34m\u001b[0m\u001b[0;34m\u001b[0m\u001b[0m\n",
      "\u001b[0;31mNameError\u001b[0m: name 'lst' is not defined"
     ]
    }
   ],
   "source": [
    "def qsort(lst):\n",
    "    \"\"\"\n",
    "Input: An unsorted list (int or floats)\n",
    "\n",
    "Output: sorted list\n",
    "\"\"\"\n",
    "indices = [(0, len(lst))] #intialize the stored indices\n",
    "\n",
    "while indices: #run when indices is not empty\n",
    "    (frm, to) = indices.pop() #find the length of the subproblem\n",
    "\n",
    "    if frm == to: #if the two values are equal, exit the loop\n",
    "        continue\n",
    "\n",
    "    # Find the partition:\n",
    "    N = to - frm #find the length of the sublist\n",
    "\n",
    "    #find the index of the initial, center, and last element\n",
    "    inds = [frm + int(N * n) for n in locations] \n",
    "\n",
    "    #find the values of the initial, center, and last element\n",
    "    values = [lst[ind] for ind in inds]\n",
    "\n",
    "    #find the parition by choosing the median of the three\n",
    "    partition = median(*values)\n",
    "\n",
    "    # Split into lists:\n",
    "    lower = [a for a in lst[frm:to] if a < partition] #lower than partition\n",
    "    upper = [a for a in lst[frm:to] if a >= partition] #higher than partition\n",
    "    counts = sum([1 for a in lst[frm:to] if a == partition]) #number equal to partition\n",
    "\n",
    "    #find the length of the sublists\n",
    "    ind1 = frm + len(lower)\n",
    "    ind2 = ind1 + 1\n",
    "\n",
    "    # Push back into correct place:\n",
    "    lst[frm:ind1] = lower #the first half is the lower sublist\n",
    "    lst[ind1] = partition #push the partition in the center of the list \n",
    "    upper.remove(partition) #remove the alreadly counted partition\n",
    "    lst[ind2:to] = upper #the last half is the upper sublist\n",
    "\n",
    "    # Enqueue other locations\n",
    "    indices.append((frm, ind1)) #push the indices of the lower sublist\n",
    "    indices.append((ind2, to)) #push the indices of the upper sublist\n",
    "return lst"
   ]
  },
  {
   "cell_type": "code",
   "execution_count": null,
   "metadata": {
    "deletable": false,
    "editable": false,
    "nbgrader": {
     "checksum": "ce755b787f1b82629d627d2f8bea66a5",
     "grade": true,
     "grade_id": "cell-2c0cbd296d612f85",
     "locked": true,
     "points": 1,
     "schema_version": 1,
     "solution": false
    }
   },
   "outputs": [],
   "source": [
    "assert(qsort([4,2,1])==[1,2,4])\n",
    "assert(qsort([0])==[0])"
   ]
  },
  {
   "cell_type": "markdown",
   "metadata": {
    "deletable": false,
    "editable": false,
    "nbgrader": {
     "checksum": "3f5f9ca976fb636978e2bdfda98a5eeb",
     "grade": false,
     "grade_id": "cell-76883a453f020d72",
     "locked": true,
     "schema_version": 1,
     "solution": false
    }
   },
   "source": [
    "### Question 4b [time estimate: 3 minutes]\n",
    "\n",
    "Now time the algorithm on the same inputs you have used in question 3, adding one more line in the previous graph you have produced. "
   ]
  },
  {
   "cell_type": "code",
   "execution_count": null,
   "metadata": {
    "deletable": false,
    "nbgrader": {
     "checksum": "33188fb282e53d117dfe275067ad3567",
     "grade": true,
     "grade_id": "cell-31ee807cec9ce8bf",
     "locked": false,
     "points": 0,
     "schema_version": 1,
     "solution": true
    }
   },
   "outputs": [],
   "source": [
    "import matplotlib.pyplot as plt\n",
    "\n",
    "#intialize storage\n",
    "runtime_lst_q4 = []\n",
    "runtime_dummy = []\n",
    "\n",
    "\n",
    "#number of iterations for averaging the runtime\n",
    "iteration = 20\n",
    "\n",
    "#iterate through different sizes of list\n",
    "for k in range(1,101,10):\n",
    "    N = k*100\n",
    "    #average the runtime for each list\n",
    "    for i in range(iteration):\n",
    "        runtime = timeit.timeit(randomized_quicksort, number=1)\n",
    "        runtime_dummy.append(runtime)\n",
    "    \n",
    "    #average the runtime for each length\n",
    "    runtime_lst_q4.append(sum(runtime_dummy)/iteration)\n",
    "    \n",
    "#plot the graph\n",
    "k = [i for i in range(1, 101, 10)]\n",
    "plt.plot(k,runtime_lst_q3, label = \"Q3\")\n",
    "plt.plot(k,runtime_lst_q4, label = \"Q4\")\n",
    "plt.xlabel(\"Length of list (hundreds)\")\n",
    "plt.ylabel(\"Runtime (s)\")\n",
    "plt.title(\"Runtime of Randomized Quicksort Algorithm for Different Length Sizes\")\n",
    "plt.legend()\n",
    "plt.show()"
   ]
  },
  {
   "cell_type": "markdown",
   "metadata": {
    "deletable": false,
    "editable": false,
    "nbgrader": {
     "checksum": "991ee87c525d8fa29bd448aa80dbf243",
     "grade": false,
     "grade_id": "cell-b666e68e84dfce03",
     "locked": true,
     "schema_version": 1,
     "solution": false
    }
   },
   "source": [
    "## Question 5.\n",
    "\n",
    "### Question 5a [time estimate: 3 minutes]\n",
    "\n",
    "Remove the median-of-3 partitioning, and just use the first element in the array. "
   ]
  },
  {
   "cell_type": "code",
   "execution_count": 7,
   "metadata": {
    "deletable": false,
    "nbgrader": {
     "checksum": "90dbb100f881a2c9a61720a0753ca401",
     "grade": false,
     "grade_id": "cell-4daf36021c15eaf0",
     "locked": false,
     "schema_version": 1,
     "solution": true
    }
   },
   "outputs": [],
   "source": [
    "def qsort(lst):\n",
    "    \"\"\"\n",
    "    the main qsort function\n",
    "    ---\n",
    "    Input: An unsorted list (int or floats)\n",
    "    \n",
    "    Output: sorted list\n",
    "    \"\"\"\n",
    "    indices = [(0, len(lst))] #intialize the stored indices\n",
    "\n",
    "    while indices:#run when indices is not empty\n",
    "        (frm, to) = indices.pop() #find the length of the subproblem\n",
    "        \n",
    "        if frm == to: #if the two values are equal, exit the loop\n",
    "            continue\n",
    "\n",
    "        # Find the partition:\n",
    "        N = to - frm #find the length of the list\n",
    "        partition = lst[frm] #assign the first element as the partition\n",
    "\n",
    "        # Split into lists:\n",
    "        lower = [a for a in lst[frm:to] if a < partition] #lower than partition\n",
    "        upper = [a for a in lst[frm:to] if a > partition] #higher than partition\n",
    "        counts = sum([1 for a in lst[frm:to] if a == partition]) #number equal to partition\n",
    "        \n",
    "        #find the length of the sublists\n",
    "        ind1 = frm + len(lower)\n",
    "        ind2 = ind1 + counts\n",
    "        \n",
    "        # Push back into correct place:\n",
    "        lst[frm:ind1] = lower #the first half is the lower sublist\n",
    "        lst[ind1:ind2] = [partition] * counts #the middle is value same as the partition\n",
    "        lst[ind2:to] = upper #the last half is the upper sublist\n",
    "\n",
    "        # Enqueue other locations\n",
    "        indices.append((frm, ind1)) #push the indices of the lower sublist\n",
    "        indices.append((ind2, to)) #push the indices of the upper sublist\n",
    "    return lst"
   ]
  },
  {
   "cell_type": "code",
   "execution_count": 8,
   "metadata": {
    "deletable": false,
    "editable": false,
    "nbgrader": {
     "checksum": "9d457eff304d19e031a8eabb4615ca3b",
     "grade": true,
     "grade_id": "cell-97473a9e0d12e745",
     "locked": true,
     "points": 1,
     "schema_version": 1,
     "solution": false
    }
   },
   "outputs": [],
   "source": [
    "assert(qsort([4,2,1])==[1,2,4])\n",
    "assert(qsort([0])==[0])"
   ]
  },
  {
   "cell_type": "markdown",
   "metadata": {
    "deletable": false,
    "editable": false,
    "nbgrader": {
     "checksum": "8f0166e7d0021886bb7176f35011a633",
     "grade": false,
     "grade_id": "cell-2ca71dd53b31262b",
     "locked": true,
     "schema_version": 1,
     "solution": false
    }
   },
   "source": [
    "### Question 5b [time estimate: 3 minutes]\n",
    "\n",
    "Does this change the running time of your algorithm? Justify your response with a graph. \n",
    "\n"
   ]
  },
  {
   "cell_type": "code",
   "execution_count": 9,
   "metadata": {
    "deletable": false,
    "nbgrader": {
     "checksum": "bd863db414089f9ead9906b3c2c34a15",
     "grade": true,
     "grade_id": "cell-1f3a6df29d324853",
     "locked": false,
     "points": 0,
     "schema_version": 1,
     "solution": true
    }
   },
   "outputs": [
    {
     "data": {
      "image/png": "[encoded data removed]",
      "text/plain": [
       "<Figure size 432x288 with 1 Axes>"
      ]
     },
     "metadata": {
      "needs_background": "light"
     },
     "output_type": "display_data"
    }
   ],
   "source": [
    "import matplotlib.pyplot as plt\n",
    "\n",
    "#intialize storage\n",
    "runtime_lst_q5 = []\n",
    "runtime_dummy = []\n",
    "\n",
    "\n",
    "#number of iterations for averaging the runtime\n",
    "iteration = 20\n",
    "\n",
    "#iterate through different sizes of list\n",
    "for k in range(1,101,10):\n",
    "    N = k*100\n",
    "    #average the runtime for each list\n",
    "    for i in range(iteration):\n",
    "        runtime = timeit.timeit(randomized_quicksort, number=1)\n",
    "        runtime_dummy.append(runtime)\n",
    "    \n",
    "    #average the runtime for each length\n",
    "    runtime_lst_q5.append(sum(runtime_dummy)/iteration)\n",
    "\n",
    "#plot the graph\n",
    "k = [i for i in range(1, 101, 10)]\n",
    "plt.plot(k,runtime_lst_q3, label = \"Q3\")\n",
    "plt.plot(k,runtime_lst_q4, label = \"Q4\")\n",
    "plt.plot(k,runtime_lst_q5, label = \"Q5\")\n",
    "plt.xlabel(\"Length of list (hundreds)\")\n",
    "plt.ylabel(\"Runtime (s)\")\n",
    "plt.title(\"Runtime of Randomized Quicksort Algorithm for Different Length Sizes\")\n",
    "plt.legend()\n",
    "plt.show()\n"
   ]
  },
  {
   "cell_type": "markdown",
   "metadata": {},
   "source": [
    "We see the three quicksort algorithms have the same time complexity as they grow asymptotically of $O(n \\lg n)$ and their running time does not change significantly. Specifically, by only choosing the first element as the partition, we are more likely to get unluckly when partitioning, but at the same time, remove the time needed to find the partition, therefore, balancing out the running time."
   ]
  },
  {
   "cell_type": "markdown",
   "metadata": {
    "deletable": false,
    "editable": false,
    "nbgrader": {
     "checksum": "51af6d987694ab6231a6f4aa19f39164",
     "grade": false,
     "grade_id": "cell-67512d1d42af415f",
     "locked": true,
     "schema_version": 1,
     "solution": false
    }
   },
   "source": [
    "## Part B. Recursive quicksort [time estimate: 5 minutes]\n",
    "\n",
    "One main difference between the quicksort algorithms in Cormen et al. and the implementation in the code above is that quick sort (in the code in this notebook) is not recursive, while $QUICKSORT$ in Cormen et al. is. Given the limitation of Python so that it can only make 500 recursive calls, estimate the maximum size of the list that can be sorted by Python if a recursive quicksort is to be used. Explicitly state all assumptions you make in getting to an answer.\n"
   ]
  },
  {
   "cell_type": "markdown",
   "metadata": {
    "deletable": false,
    "nbgrader": {
     "checksum": "7be7bc411376ac8090621f3d68630c10",
     "grade": true,
     "grade_id": "cell-4af5aab4ad1a7225",
     "locked": false,
     "points": 0,
     "schema_version": 1,
     "solution": true
    }
   },
   "source": [
    "Since each quicksort algorithm calls two quicksort algorithms, the number of recursion calls is proportional to $2^k$, with $k$ being the total partitions made in algorithm. In the best case, the algorithm would partition the array as a balanced binary tree. This means that the total recursions is $\\sum_{k=1}^{n}2^k$, which can be solved below:"
   ]
  },
  {
   "cell_type": "code",
   "execution_count": 10,
   "metadata": {},
   "outputs": [
    {
     "name": "stdout",
     "output_type": "stream",
     "text": [
      "8 254\n"
     ]
    }
   ],
   "source": [
    "n = 0\n",
    "k = 0\n",
    "while n < 500: #find the maximum recursion and k\n",
    "    k+=1\n",
    "    n_1 = n\n",
    "    n = n_1 + 2**k\n",
    "print(k,n_1)"
   ]
  },
  {
   "cell_type": "markdown",
   "metadata": {},
   "source": [
    "The maximum number of recursion is 254 times. This means that the algorithm can handle $2^8=256$ items. However, in an extremely unbalanced case (when one sublist is always 0), we would have $2\\times n$ recursions, meaning that the maximum elements in the list would be 250."
   ]
  }
 ],
 "metadata": {
  "kernelspec": {
   "display_name": "Python 3",
   "language": "python",
   "name": "python3"
  },
  "language_info": {
   "codemirror_mode": {
    "name": "ipython",
    "version": 3
   },
   "file_extension": ".py",
   "mimetype": "text/x-python",
   "name": "python",
   "nbconvert_exporter": "python",
   "pygments_lexer": "ipython3",
   "version": "3.7.4"
  }
 },
 "nbformat": 4,
 "nbformat_minor": 2
}
