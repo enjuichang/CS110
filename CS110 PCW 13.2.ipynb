{
 "cells": [
  {
   "cell_type": "markdown",
   "metadata": {},
   "source": [
    "Before you turn this problem in, make sure everything runs as expected. First, **restart the kernel** (in the menubar, select Kernel$\\rightarrow$Restart) and then **run all cells** (in the menubar, select Cell$\\rightarrow$Run All).\n",
    "\n",
    "Note that this Pre-class Work is estimated to take **45 minutes**.\n",
    "\n",
    "Make sure you fill in any place that says `YOUR CODE HERE` or \"YOUR ANSWER HERE\", as well as your name and collaborators below:"
   ]
  },
  {
   "cell_type": "code",
   "execution_count": 1,
   "metadata": {},
   "outputs": [],
   "source": [
    "NAME = \"Enjui Chang\"\n",
    "COLLABORATORS = \"\""
   ]
  },
  {
   "cell_type": "markdown",
   "metadata": {},
   "source": [
    "---"
   ]
  },
  {
   "cell_type": "markdown",
   "metadata": {
    "deletable": false,
    "editable": false,
    "nbgrader": {
     "checksum": "4d981108d5cc409ac26cfbe6fa53cb1f",
     "grade": false,
     "grade_id": "cell-5b237cc13279b029",
     "locked": true,
     "schema_version": 1,
     "solution": false
    }
   },
   "source": [
    "# CS110 Pre-class Work - Hash tables and hash functions\n",
    "\n",
    "## Part A. Direct Address Tables [time estimate: 10 minutes]\n",
    "\n",
    "As the first step in setting up a crossword solving algorithm you need to create 2 direct address tables, one to store all the “up” answers - whether correct or not - and one to store all the “across” answers. Write python code to create a direct address table that allows you to:\n",
    "\n",
    "1. initialize N empty guesses\n",
    "2. set a guess for the i-th entry\n",
    "3. clear an incorrect guess for the i-th entry\n"
   ]
  },
  {
   "cell_type": "code",
   "execution_count": 15,
   "metadata": {
    "deletable": false,
    "nbgrader": {
     "checksum": "69e5d714c7245702b8732209ea0b2b42",
     "grade": true,
     "grade_id": "cell-d8d2e3c1b136cdb9",
     "locked": false,
     "points": 0,
     "schema_version": 1,
     "solution": true
    }
   },
   "outputs": [],
   "source": [
    "# create two direct address tables\n",
    "up = []\n",
    "across = []\n",
    "\n",
    "# initialize N empty guesses\n",
    "def intialize_guess(N, table):\n",
    "    table = [None for i in range(N)]\n",
    "\n",
    "# set a guess for the i-th entry\n",
    "def set_guesses(table, guess, i):\n",
    "    table[i] = guess\n",
    "    return table\n",
    "    \n",
    "# clear an incorrect guess for the i-th entry\n",
    "def clear_incorrect(table, answer, i):\n",
    "    \n",
    "    # clear the guess if incorrect\n",
    "    if table[i] != answer: \n",
    "        table[i] = None\n",
    "    return table\n",
    "\n"
   ]
  },
  {
   "cell_type": "markdown",
   "metadata": {
    "deletable": false,
    "editable": false,
    "nbgrader": {
     "checksum": "cdb562114e50f9ce1c97be3536b59efa",
     "grade": false,
     "grade_id": "cell-b27891b3ff16f730",
     "locked": true,
     "schema_version": 1,
     "solution": false
    }
   },
   "source": [
    "## Part B. Social Security [time estimate: 3 minutes]\n",
    "\n",
    "Could we use a direct address table to store a country's entire set of social security numbers (aka id numbers)? Why or why not?\n"
   ]
  },
  {
   "cell_type": "markdown",
   "metadata": {
    "deletable": false,
    "nbgrader": {
     "checksum": "7b193e66cbea5bd9dac131a3d6adfefa",
     "grade": true,
     "grade_id": "cell-e751647d9af78c11",
     "locked": false,
     "points": 0,
     "schema_version": 1,
     "solution": true
    }
   },
   "source": [
    "It is possible although it would require a lot of memory space and pretty slow to do so, which show the inefficiency of this method. This is because we need one slot for each social security numbers, without any heuristics when inserting/deleting/searching, meaning that the time and space complexity would be the O(N)."
   ]
  },
  {
   "cell_type": "markdown",
   "metadata": {
    "deletable": false,
    "editable": false,
    "nbgrader": {
     "checksum": "35f74a7f882cabb36df7ee2c43ee51db",
     "grade": false,
     "grade_id": "cell-cba2028918eea1fd",
     "locked": true,
     "schema_version": 1,
     "solution": false
    }
   },
   "source": [
    "## Part C. Chained Hash-table [time estimate: 32 minutes]\n",
    "\n",
    "### Question 1 [time estimate: 7 minutes]\n",
    "\n",
    "Using the code in the cell below, complete the missing sections of code. You should copy and paste the code in an additional cell and fill in the code there."
   ]
  },
  {
   "cell_type": "code",
   "execution_count": 3,
   "metadata": {
    "deletable": false,
    "editable": false,
    "nbgrader": {
     "checksum": "ffc1d9c145de9e5c52f96dfdc8a66fe2",
     "grade": false,
     "grade_id": "cell-9e41d88b035338f4",
     "locked": true,
     "schema_version": 1,
     "solution": false
    }
   },
   "outputs": [],
   "source": [
    "import random\n",
    "import string\n",
    "\n",
    "\n",
    "def randomword(length):\n",
    "    return ''.join(random.choice(string.ascii_lowercase) for i in range(length))\n",
    "\n",
    "\n",
    "def empty_hash_table(N):\n",
    "    return [[] for n in range(N)]\n",
    "\n",
    "\n",
    "def add_to_hash_table(hash_table, item, hash_function):\n",
    "    N = len(hash_table)\n",
    "    # YOUR CODE HERE\n",
    "    return hash_table\n",
    "\n",
    "\n",
    "def contains(hash_table, item, hash_function):\n",
    "    N = len(hash_table)\n",
    "    # YOUR CODE HERE\n",
    "    # return true if the item has already been stored in the hash_table\n",
    "\n",
    "\n",
    "def remove(hash_table, item, hash_function):\n",
    "    if not contains(hash_table, item, hash_function):\n",
    "        raise ValueError()\n",
    "    # YOUR CODE HERE\n",
    "    return hash_table\n",
    "\n",
    "\n",
    "# Hash Functions\n",
    "def hash_str1(string):\n",
    "    ans = 0\n",
    "    for chr in string:\n",
    "        ans += ord(chr)\n",
    "    return ans\n",
    "\n",
    "def hash_str2(string):\n",
    "    ans=int(ord(string[0]))\n",
    "    for ix in range(1, len(string)):\n",
    "        ans = ans ^ ord(string[ix]) \n",
    "    return int(bin(ans).split('b')[1])\n",
    "\n",
    "def hash_str3(string):\n",
    "    ans = 0\n",
    "    for chr in string:\n",
    "        ans = ans * 128 + ord(chr)\n",
    "    return ans\n",
    "\n",
    "def hash_str4(string):\n",
    "    random.seed(ord(string[0]))\n",
    "    return random.getrandbits(32)"
   ]
  },
  {
   "cell_type": "code",
   "execution_count": 4,
   "metadata": {
    "deletable": false,
    "nbgrader": {
     "checksum": "b39c1af2de8a4581d16a2d630fcaac74",
     "grade": true,
     "grade_id": "cell-1b6cc6df105c101f",
     "locked": false,
     "points": 0,
     "schema_version": 1,
     "solution": true
    }
   },
   "outputs": [],
   "source": [
    "import random\n",
    "import string\n",
    "\n",
    "\n",
    "def randomword(length):\n",
    "    return ''.join(random.choice(string.ascii_lowercase) for i in range(length))\n",
    "\n",
    "\n",
    "def empty_hash_table(N):\n",
    "    return [[] for n in range(N)]\n",
    "\n",
    "# add new item to the hash table\n",
    "def add_to_hash_table(hash_table, item, hash_function):\n",
    "    N = len(hash_table)\n",
    "    hash_table[hash_function(item)%N].append(item)\n",
    "    \n",
    "    return hash_table\n",
    "\n",
    "# search to find an element\n",
    "def contains(hash_table, item, hash_function):\n",
    "    N = len(hash_table)\n",
    "    \n",
    "    # return true if the item has already been stored in the hash_table\n",
    "    for i in hash_table[hash_function(item)%N]:\n",
    "        if i == item:\n",
    "            return True\n",
    "    return False\n",
    "    \n",
    "# remove the element\n",
    "def remove(hash_table, item, hash_function):\n",
    "    N = len(hash_table)\n",
    "    if not contains(hash_table, item, hash_function):\n",
    "        raise ValueError()\n",
    "    for i in range(len(hash_table[hash_function(item)%N])):\n",
    "        if hash_table[hash_function(item)%N][i] == item:\n",
    "            del hash_table[hash_function(item)%N][i]\n",
    "            break\n",
    "    return hash_table\n",
    "\n",
    "\n",
    "# Hash Functions\n",
    "def hash_str1(string):\n",
    "    ans = 0\n",
    "    for chr in string:\n",
    "        ans += ord(chr)\n",
    "    return ans\n",
    "\n",
    "def hash_str2(string):\n",
    "    ans=int(ord(string[0]))\n",
    "    for ix in range(1, len(string)):\n",
    "        ans = ans ^ ord(string[ix]) \n",
    "    return int(bin(ans).split('b')[1])\n",
    "\n",
    "def hash_str3(string):\n",
    "    ans = 0\n",
    "    for chr in string:\n",
    "        ans = ans * 128 + ord(chr)\n",
    "    return ans\n",
    "\n",
    "def hash_str4(string):\n",
    "    random.seed(ord(string[0]))\n",
    "    return random.getrandbits(32)"
   ]
  },
  {
   "cell_type": "markdown",
   "metadata": {
    "deletable": false,
    "editable": false,
    "nbgrader": {
     "checksum": "d323c68243f6d1fe79cbf5ad01ee85ae",
     "grade": false,
     "grade_id": "cell-66fb150dd2e509a7",
     "locked": true,
     "schema_version": 1,
     "solution": false
    }
   },
   "source": [
    "### Question 2 [time estimate: 2 minutes]\n",
    "\n",
    "Using the code, create 100,000 words of 10 characters each."
   ]
  },
  {
   "cell_type": "code",
   "execution_count": 5,
   "metadata": {
    "deletable": false,
    "nbgrader": {
     "checksum": "b9d2f1faad23eecd6f3691968bb4e455",
     "grade": true,
     "grade_id": "cell-234b1e83c871ddc7",
     "locked": false,
     "points": 0,
     "schema_version": 1,
     "solution": true
    }
   },
   "outputs": [],
   "source": [
    "# create 100,000 words of 10 characters each\n",
    "words = []\n",
    "for i in range(100000):\n",
    "    words.append(randomword(10))"
   ]
  },
  {
   "cell_type": "markdown",
   "metadata": {
    "deletable": false,
    "editable": false,
    "nbgrader": {
     "checksum": "190e7fdc00fc311f5ff32a390fff1ca4",
     "grade": false,
     "grade_id": "cell-2fbadca52cec7230",
     "locked": true,
     "schema_version": 1,
     "solution": false
    }
   },
   "source": [
    "### Question 3 [time estimate: 2 minutes]\n",
    "\n",
    "Create four chained hash-tables with 5000 slots."
   ]
  },
  {
   "cell_type": "code",
   "execution_count": 6,
   "metadata": {
    "deletable": false,
    "nbgrader": {
     "checksum": "0d1473300ae336ceb57d11687ab3ec0a",
     "grade": true,
     "grade_id": "cell-2dabefc41493ec16",
     "locked": false,
     "points": 0,
     "schema_version": 1,
     "solution": true
    }
   },
   "outputs": [],
   "source": [
    "# create empty hash tables\n",
    "table1 = empty_hash_table(5000)\n",
    "table2 = empty_hash_table(5000)\n",
    "table3 = empty_hash_table(5000)\n",
    "table4 = empty_hash_table(5000)"
   ]
  },
  {
   "cell_type": "markdown",
   "metadata": {
    "deletable": false,
    "editable": false,
    "nbgrader": {
     "checksum": "c3d147917ae237a6dc75eddab48dbaa6",
     "grade": false,
     "grade_id": "cell-cc2e6d00330e691e",
     "locked": true,
     "schema_version": 1,
     "solution": false
    }
   },
   "source": [
    "### Question 4 [time estimate: 2 minutes]\n",
    "\n",
    "Store all the words in each chained hash table using each of the different hash functions."
   ]
  },
  {
   "cell_type": "code",
   "execution_count": 7,
   "metadata": {
    "deletable": false,
    "nbgrader": {
     "checksum": "af209dceb17bf5f8d9fadf0808855f79",
     "grade": true,
     "grade_id": "cell-8a08ade8d45590a7",
     "locked": false,
     "points": 0,
     "schema_version": 1,
     "solution": true
    }
   },
   "outputs": [],
   "source": [
    "# add the words into the hash table\n",
    "for i in words:\n",
    "    add_to_hash_table(table1,i,hash_str1)\n",
    "    add_to_hash_table(table2,i,hash_str2)\n",
    "    add_to_hash_table(table3,i,hash_str3)\n",
    "    add_to_hash_table(table4,i,hash_str4)"
   ]
  },
  {
   "cell_type": "markdown",
   "metadata": {
    "deletable": false,
    "editable": false,
    "nbgrader": {
     "checksum": "858437d142a66b825fb0bebdb1c4d9fe",
     "grade": false,
     "grade_id": "cell-da2c8b42618fbde4",
     "locked": true,
     "schema_version": 1,
     "solution": false
    }
   },
   "source": [
    "### Question 5 [time estimate: 4 minutes]\n",
    "\n",
    "Measure the number of collisions for each hash function."
   ]
  },
  {
   "cell_type": "code",
   "execution_count": 8,
   "metadata": {
    "deletable": false,
    "nbgrader": {
     "checksum": "156f57bc1c6c1a3e10ca1804aa205099",
     "grade": true,
     "grade_id": "cell-a968f9e14a0416c4",
     "locked": false,
     "points": 0,
     "schema_version": 1,
     "solution": true
    }
   },
   "outputs": [
    {
     "name": "stdout",
     "output_type": "stream",
     "text": [
      "Number of collision for hash function 1: 99819\n",
      "Number of collision for hash function 2: 99984\n",
      "Number of collision for hash function 3: 95000\n",
      "Number of collision for hash function 4: 99974\n"
     ]
    }
   ],
   "source": [
    "# initialize storage\n",
    "num_col_1 = 0\n",
    "num_col_2 = 0\n",
    "num_col_3 = 0\n",
    "num_col_4 = 0\n",
    "\n",
    "# run through each hash table and \n",
    "# append the total number of collision (length-1) in each bucket \n",
    "# if it is not empty\n",
    "\n",
    "for i in range(len(table1)):\n",
    "    if len(table1[i])>1:\n",
    "        num_col_1+= len(table1[i])-1\n",
    "        \n",
    "for i in range(len(table2)):\n",
    "    if len(table2[i])>1:\n",
    "        num_col_2+= len(table2[i])-1\n",
    "        \n",
    "for i in range(len(table3)):\n",
    "    if len(table3[i])>1:\n",
    "        num_col_3+= len(table3[i])-1\n",
    "        \n",
    "for i in range(len(table4)):\n",
    "    if len(table4[i])>1:\n",
    "        num_col_4+= len(table4[i])-1\n",
    "\n",
    "# print the result\n",
    "print(\"Number of collision for hash function 1:\",num_col_1)\n",
    "print(\"Number of collision for hash function 2:\",num_col_2)\n",
    "print(\"Number of collision for hash function 3:\",num_col_3)\n",
    "print(\"Number of collision for hash function 4:\",num_col_4)"
   ]
  },
  {
   "cell_type": "markdown",
   "metadata": {
    "deletable": false,
    "editable": false,
    "nbgrader": {
     "checksum": "ef47cabb10897284ca375490003e6b3d",
     "grade": false,
     "grade_id": "cell-435ba1cfb2d80447",
     "locked": true,
     "schema_version": 1,
     "solution": false
    }
   },
   "source": [
    "### Question 6 [time estimate: 5 minutes]\n",
    "\n",
    "For each of the hash functions, how many elements are in a bucket on average (if it is not empty)?\n"
   ]
  },
  {
   "cell_type": "code",
   "execution_count": 9,
   "metadata": {
    "deletable": false,
    "nbgrader": {
     "checksum": "9f77d346c6e5ffbfb92ac0707c3c1d72",
     "grade": true,
     "grade_id": "cell-b4052afa2ee7c702",
     "locked": false,
     "points": 0,
     "schema_version": 1,
     "solution": true
    }
   },
   "outputs": [
    {
     "name": "stdout",
     "output_type": "stream",
     "text": [
      "Average elements in each bucket for hash function 1: 552.4861878453039\n",
      "Average elements in each bucket for hash function 2: 6250.0\n",
      "Average elements in each bucket for hash function 3: 20.0\n",
      "Average elements in each bucket for hash function 4: 3846.153846153846\n"
     ]
    }
   ],
   "source": [
    "# initialize storage\n",
    "bucket1 = []\n",
    "bucket2 = []\n",
    "bucket3 = []\n",
    "bucket4 = []\n",
    "\n",
    "# run through each hash table and append the number of elements in each bucket\n",
    "for i in range(len(table1)):\n",
    "    if len(table1[i])>0:\n",
    "        bucket1.append(len(table1[i]))\n",
    "        \n",
    "for i in range(len(table2)):\n",
    "    if len(table2[i])>0:\n",
    "        bucket2.append(len(table2[i]))\n",
    "        \n",
    "for i in range(len(table3)):\n",
    "    if len(table3[i])>0:\n",
    "        bucket3.append(len(table3[i]))\n",
    "        \n",
    "for i in range(len(table4)):\n",
    "    if len(table4[i])>0:\n",
    "        bucket4.append(len(table4[i]))\n",
    "\n",
    "# average the number of elements with the number of buckets\n",
    "avg_bucket1 = sum(bucket1)/len(bucket1)\n",
    "avg_bucket2 = sum(bucket2)/len(bucket2)\n",
    "avg_bucket3 = sum(bucket3)/len(bucket3)\n",
    "avg_bucket4 = sum(bucket4)/len(bucket4)\n",
    "\n",
    "# print the result\n",
    "print(\"Average elements in each bucket for hash function 1:\",avg_bucket1)\n",
    "print(\"Average elements in each bucket for hash function 2:\",avg_bucket2)\n",
    "print(\"Average elements in each bucket for hash function 3:\",avg_bucket3)\n",
    "print(\"Average elements in each bucket for hash function 4:\",avg_bucket4)"
   ]
  },
  {
   "cell_type": "markdown",
   "metadata": {
    "deletable": false,
    "editable": false,
    "nbgrader": {
     "checksum": "aaeb9bd55b7a86f8bc8079cbb7f8bca4",
     "grade": false,
     "grade_id": "cell-b86aef4dd22c236c",
     "locked": true,
     "schema_version": 1,
     "solution": false
    }
   },
   "source": [
    "### Question 7 [time estimate: 5 minutes]\n",
    "\n",
    "Time how long it takes to find elements that are in each hash table.\n"
   ]
  },
  {
   "cell_type": "code",
   "execution_count": 16,
   "metadata": {
    "deletable": false,
    "nbgrader": {
     "checksum": "23927c46b8067f49ef10e9b4183f7680",
     "grade": true,
     "grade_id": "cell-0605f7dec7128414",
     "locked": false,
     "points": 0,
     "schema_version": 1,
     "solution": true
    }
   },
   "outputs": [
    {
     "name": "stdout",
     "output_type": "stream",
     "text": [
      "Search time for hash table 1: 0.0001265348482131958 sec\n",
      "Search time for hash table 2: 0.0005671722221374511 sec\n",
      "Search time for hash table 3: 9.714887142181397e-06 sec\n",
      "Search time for hash table 4: 0.0003960433793067932 sec\n"
     ]
    }
   ],
   "source": [
    "import time\n",
    "\n",
    "# intialize storage for time\n",
    "time1 = []\n",
    "time2 = []\n",
    "time3 = []\n",
    "time4 = []\n",
    "\n",
    "# measure the search time for each hash table \n",
    "for i in words:\n",
    "    \n",
    "    # hash table 1\n",
    "    start = time.time() \n",
    "    contains(table1, i, hash_str1) # call the search function\n",
    "    end = time.time()\n",
    "    time1.append(end-start) # append the time to storage\n",
    "    \n",
    "    # hash table 2\n",
    "    start = time.time() \n",
    "    contains(table2, i, hash_str2) # call the search function\n",
    "    end = time.time()\n",
    "    time2.append(end-start) # append the time to storage\n",
    "    \n",
    "    # hash table 3\n",
    "    start = time.time() \n",
    "    contains(table3, i, hash_str3) # call the search function\n",
    "    end = time.time()\n",
    "    time3.append(end-start) # append the time to the list\n",
    "    \n",
    "    # hash table 4\n",
    "    start = time.time() \n",
    "    contains(table4, i, hash_str4) # call the search function\n",
    "    end = time.time()\n",
    "    time4.append(end-start) # append the time to storage\n",
    "\n",
    "# print the result\n",
    "print(\"Search time for hash table 1:\",sum(time1)/len(time1),\"sec\")\n",
    "print(\"Search time for hash table 2:\",sum(time2)/len(time2),\"sec\")\n",
    "print(\"Search time for hash table 3:\",sum(time3)/len(time3),\"sec\")\n",
    "print(\"Search time for hash table 4:\",sum(time4)/len(time4),\"sec\")\n",
    "    "
   ]
  },
  {
   "cell_type": "markdown",
   "metadata": {
    "deletable": false,
    "editable": false,
    "nbgrader": {
     "checksum": "b051093ca9a2faf1658679380bf29033",
     "grade": false,
     "grade_id": "cell-75db2c2e62cec090",
     "locked": true,
     "schema_version": 1,
     "solution": false
    }
   },
   "source": [
    "### Question 8 [time estimate: 5 minutes]\n",
    "\n",
    "For each hash table, time how long it takes to find 10,000 elements that have not been stored."
   ]
  },
  {
   "cell_type": "code",
   "execution_count": 20,
   "metadata": {
    "deletable": false,
    "nbgrader": {
     "checksum": "99b2fa8c88000c2143cb00fac1f6aa5f",
     "grade": true,
     "grade_id": "cell-b846b45e1b98ae59",
     "locked": false,
     "points": 0,
     "schema_version": 1,
     "solution": true
    }
   },
   "outputs": [
    {
     "name": "stdout",
     "output_type": "stream",
     "text": [
      "Search time for hash table 1: 0.0001397992253303528 sec\n",
      "Search time for hash table 2: 0.000615766475200653 sec\n",
      "Search time for hash table 3: 1.1469275951385498e-05 sec\n",
      "Search time for hash table 4: 0.000426600329875946 sec\n"
     ]
    }
   ],
   "source": [
    "# create storage for not stored words\n",
    "not_words = []\n",
    "\n",
    "# generate the no stored words\n",
    "for i in range(100000): \n",
    "    new_word = randomword(10)\n",
    "    while new_word in words: # if new_word is in words, then generate another word\n",
    "        new_word = randomword(10)\n",
    "    not_words.append(new_word)\n",
    "\n",
    "# intialize storage for time\n",
    "time1 = []\n",
    "time2 = []\n",
    "time3 = []\n",
    "time4 = []\n",
    "\n",
    "# measure the search time for each hash table \n",
    "for i in not_words:\n",
    "    \n",
    "    # hash table 1\n",
    "    start = time.time() \n",
    "    contains(table1, i, hash_str1) # call the search function\n",
    "    end = time.time()\n",
    "    time1.append(end-start) # append the time to storage\n",
    "    \n",
    "    # hash table 2\n",
    "    start = time.time() \n",
    "    contains(table2, i, hash_str2) # call the search function\n",
    "    end = time.time()\n",
    "    time2.append(end-start) # append the time to storage\n",
    "    \n",
    "    # hash table 3\n",
    "    start = time.time() \n",
    "    contains(table3, i, hash_str3) # call the search function\n",
    "    end = time.time()\n",
    "    time3.append(end-start) # append the time to the list\n",
    "    \n",
    "    # hash table 4\n",
    "    start = time.time() \n",
    "    contains(table4, i, hash_str4) # call the search function\n",
    "    end = time.time()\n",
    "    time4.append(end-start) # append the time to storage\n",
    "\n",
    "# print the result\n",
    "print(\"Search time for hash table 1:\",sum(time1)/len(time1),\"sec\")\n",
    "print(\"Search time for hash table 2:\",sum(time2)/len(time2),\"sec\")\n",
    "print(\"Search time for hash table 3:\",sum(time3)/len(time3),\"sec\")\n",
    "print(\"Search time for hash table 4:\",sum(time4)/len(time4),\"sec\")"
   ]
  }
 ],
 "metadata": {
  "kernelspec": {
   "display_name": "Python 3",
   "language": "python",
   "name": "python3"
  },
  "language_info": {
   "codemirror_mode": {
    "name": "ipython",
    "version": 3
   },
   "file_extension": ".py",
   "mimetype": "text/x-python",
   "name": "python",
   "nbconvert_exporter": "python",
   "pygments_lexer": "ipython3",
   "version": "3.7.4"
  }
 },
 "nbformat": 4,
 "nbformat_minor": 2
}
