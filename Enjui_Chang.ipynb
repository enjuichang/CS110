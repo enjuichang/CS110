{
 "cells": [
  {
   "cell_type": "code",
   "execution_count": 1,
   "metadata": {},
   "outputs": [],
   "source": [
    "NAME = \"Enjui Chang\"\n",
    "OPTION = \"Designing a plagiarism detector\""
   ]
  },
  {
   "cell_type": "markdown",
   "metadata": {},
   "source": [
    "# PART 1: Rolling Hashing\n"
   ]
  },
  {
   "cell_type": "markdown",
   "metadata": {},
   "source": [
    "In the rolling hashing problem, d is defined as the number of characters in the input alphabet. The value I chose for q is a 10-digit prime number, this is necessary as large hash tables are needed when we are trying to find the patterns in real text and as k increases. Specifically, this q can hold a 30-digit string without having a collision due to overflow, which would decreases the accuracy of the algorithm (it returned different answers compared to regular hashing when q was smaller).\n",
    "\n",
    "Hash tables are the better data structure for this problem as the naive approach requires two for-loops, with one iterating through strings in x and the other in y while doing rolling hashing. In this case, the time complexity will be $O(n\\times m)$ with $n$ as the length of one string and $m$ as the length of another. However, once we use the data structure of a hash table, the time complexity of the algorithm will reduce to $O(n)$ as the cost for lookup in a hash table is $O(m)$ (iterating through the second stirng), meaning that the time complexity is $min(O(n),O(m))$.\n",
    "\n",
    "\n",
    "I chose to use python dictionaries as the hash table, therefore, whenever inputting new items in the hash table, the hash table will automatically trigger resizing if needed. In addition, python dictionaries uses open addressing to solve collisions in the table, which is better than chained list asymtoptically.\n",
    "\n",
    "I created a rolling hashing function, which outputs a hash table with all the substrings recorded inside."
   ]
  },
  {
   "cell_type": "code",
   "execution_count": 2,
   "metadata": {},
   "outputs": [],
   "source": [
    "# rolling hashing\n",
    "\n",
    "# d is the number of characters in the alphabet (case-insenstive)\n",
    "d = 128\n",
    "\n",
    "# q is a 10 digit prime number\n",
    "q = 1500450271\n",
    "\n",
    "def rolling_hashing(x, k, hash_val, htable):\n",
    "    \"\"\"\n",
    "    Uses rolling hashing to find the corresponding hash table\n",
    "    \n",
    "    Input:\n",
    "    - x: string of interest\n",
    "    - k: int, length of substring\n",
    "    - hash_val: inital hash value\n",
    "    - htable: an empty hash table\n",
    "    \n",
    "    Output:\n",
    "    - hash table of all the length-k substrings in x\n",
    "    \"\"\"\n",
    "    for index in range(len(x)-k+1):\n",
    "        if index:\n",
    "\n",
    "            # remove the last char\n",
    "            hash_val = (hash_val - ord(x[index-1])*(d**(k-1)%q))%q\n",
    "            \n",
    "            # append the new char\n",
    "            hash_val = (hash_val * d + ord(x[index+k-1]))%q\n",
    "        \n",
    "        # append the values into the hash table\n",
    "        htable[hash_val] = index\n",
    "        \n",
    "    return htable\n",
    "\n",
    "def rh_get_match(x, y, k):\n",
    "    \"\"\"\n",
    "    Finds all common length-k substrings of x and y\n",
    "    using rolling hashing on both strings.\n",
    "    \n",
    "    Input:\n",
    "    - x, y: strings\n",
    "    - k: int, length of substring\n",
    "    \n",
    "    Output:\n",
    "    - A list of tuples (i, j) where x[i:i+k] = y[j:j+k]\n",
    "    \"\"\"\n",
    "    \n",
    "    # avoid case problem\n",
    "    x = x.lower()\n",
    "    y = y.lower() \n",
    "    \n",
    "    # remove unwanted characters and remove the spaces\n",
    "    x = x.replace(\" \",\"\").replace(\"!\", \"\").replace(\"?\", \"\").replace(\".\", \"\").replace(\",\", \"\").replace(\";\", \"\").replace(\"/\", \"\")\n",
    "    y = y.replace(\" \",\"\").replace(\"!\", \"\").replace(\"?\", \"\").replace(\".\", \"\").replace(\",\", \"\").replace(\";\", \"\").replace(\"/\", \"\")\n",
    "    \n",
    "    # find the length of each string\n",
    "    len_x = len(x)\n",
    "    len_y = len(y)   \n",
    "    \n",
    "    # raise error if input strings contains no letters\n",
    "    if len_x == 0 or len_y == 0:\n",
    "        raise ValueError(\"Input needs to have at least one letter\")\n",
    "        \n",
    "    # check if the input string is larger than k and readjust the k\n",
    "    while len_x < k or len_y < k:\n",
    "        k -= 1\n",
    "    \n",
    "    # intialize stroage\n",
    "    storage = []\n",
    "    \n",
    "    # create a hash table using dictionaries and initial hash value\n",
    "    htable = {}\n",
    "    hash_val = 0\n",
    "    \n",
    "    # find the inital hash value for x\n",
    "    for i in range(k):\n",
    "        hash_val = (hash_val*d + ord(x[i]))%q\n",
    "\n",
    "    # rolling hashing for every substring in x \n",
    "    rolling_hashing(x, k, hash_val, htable)\n",
    "    \n",
    "    \n",
    "    # find the inital hash value for y\n",
    "    hash_val = 0\n",
    "    \n",
    "    # initialize the first\n",
    "    for i in range(k):\n",
    "        hash_val = (hash_val*d + ord(y[i]))%q\n",
    "    \n",
    "    # rolling hashing for every substring in y  \n",
    "    for index in range(len_y-k+1):\n",
    "        if index:\n",
    "            \n",
    "            # remove the last char\n",
    "            hash_val = (hash_val - ord(y[index-1])*(d**(k-1)%q))%q\n",
    "            \n",
    "            # append the new char\n",
    "            hash_val = (hash_val * d + ord(y[index+k-1]))%q\n",
    "        \n",
    "        # if lookup suceeds then store the value\n",
    "        if hash_val in htable.keys():\n",
    "            storage.append((htable[hash_val],index))\n",
    "            \n",
    "    return storage"
   ]
  },
  {
   "cell_type": "code",
   "execution_count": 3,
   "metadata": {},
   "outputs": [
    {
     "ename": "ValueError",
     "evalue": "Input needs to have at least one letter",
     "output_type": "error",
     "traceback": [
      "\u001b[0;31m---------------------------------------------------------------------------\u001b[0m",
      "\u001b[0;31mValueError\u001b[0m                                Traceback (most recent call last)",
      "\u001b[0;32m<ipython-input-3-cd4a482a8a3f>\u001b[0m in \u001b[0;36m<module>\u001b[0;34m\u001b[0m\n\u001b[1;32m     15\u001b[0m \u001b[0;34m\u001b[0m\u001b[0m\n\u001b[1;32m     16\u001b[0m \u001b[0;31m# raise error when one string doesn't have any letters\u001b[0m\u001b[0;34m\u001b[0m\u001b[0;34m\u001b[0m\u001b[0;34m\u001b[0m\u001b[0m\n\u001b[0;32m---> 17\u001b[0;31m \u001b[0mrh_get_match\u001b[0m\u001b[0;34m(\u001b[0m\u001b[0;34m\".\"\u001b[0m\u001b[0;34m,\u001b[0m \u001b[0;34m\"q rkae ke wEria\"\u001b[0m\u001b[0;34m,\u001b[0m \u001b[0;36m4\u001b[0m\u001b[0;34m)\u001b[0m\u001b[0;34m\u001b[0m\u001b[0;34m\u001b[0m\u001b[0m\n\u001b[0m",
      "\u001b[0;32m<ipython-input-2-9b1efddf6582>\u001b[0m in \u001b[0;36mrh_get_match\u001b[0;34m(x, y, k)\u001b[0m\n\u001b[1;32m     59\u001b[0m     \u001b[0;31m# raise error if input strings contains no letters\u001b[0m\u001b[0;34m\u001b[0m\u001b[0;34m\u001b[0m\u001b[0;34m\u001b[0m\u001b[0m\n\u001b[1;32m     60\u001b[0m     \u001b[0;32mif\u001b[0m \u001b[0mlen_x\u001b[0m \u001b[0;34m==\u001b[0m \u001b[0;36m0\u001b[0m \u001b[0;32mor\u001b[0m \u001b[0mlen_y\u001b[0m \u001b[0;34m==\u001b[0m \u001b[0;36m0\u001b[0m\u001b[0;34m:\u001b[0m\u001b[0;34m\u001b[0m\u001b[0;34m\u001b[0m\u001b[0m\n\u001b[0;32m---> 61\u001b[0;31m         \u001b[0;32mraise\u001b[0m \u001b[0mValueError\u001b[0m\u001b[0;34m(\u001b[0m\u001b[0;34m\"Input needs to have at least one letter\"\u001b[0m\u001b[0;34m)\u001b[0m\u001b[0;34m\u001b[0m\u001b[0;34m\u001b[0m\u001b[0m\n\u001b[0m\u001b[1;32m     62\u001b[0m \u001b[0;34m\u001b[0m\u001b[0m\n\u001b[1;32m     63\u001b[0m     \u001b[0;31m# check if the input string is larger than k and readjust the k\u001b[0m\u001b[0;34m\u001b[0m\u001b[0;34m\u001b[0m\u001b[0;34m\u001b[0m\u001b[0m\n",
      "\u001b[0;31mValueError\u001b[0m: Input needs to have at least one letter"
     ]
    }
   ],
   "source": [
    "# test cases\n",
    "# lowercase/uppercase\n",
    "assert(rh_get_match(\"aera er re Eria\", \"q rkae ke wEria\", 4) ==  [(8, 8)])\n",
    "\n",
    "#  unwanted charcters\n",
    "assert(rh_get_match(\"When she walks, she's like a samba/That swings so cool and sways so gently/That when she passes Each one she passes goes, ah\",\"When she walks, she's like a samba\", 25) == [(0, 0), (1, 1), (2, 2)])\n",
    "\n",
    "# when k is larger the actual string, return the largerst possible k\n",
    "assert(rh_get_match(\"When she walks, she's like a samba/That swings so cool and sways so gently/That when she passes Each one she passes goes, ah\",\"When she walks, she's like a samba\", 50) == [(0, 0)])\n",
    "\n",
    "# real text example\n",
    "x = \"The legal system is made up of civil courts, criminal courts and specialty courts, such as family law courts and bankruptcy courts. Each court has its own jurisdiction, which refers to the cases that the court is allowed to hear. In some instances, a case can only be heard in one type of court. For example, a bankruptcy case must be heard in a bankruptcy court. In other instances, more than one court could potentially have jurisdiction. For example, a federal criminal court and a state criminal court would each have jurisdiction over a crime that is a federal drug offense but that is also a state offense.\"\n",
    "y = \"The legal system is made up of criminal and civil courts and specialty courts like bankruptcy and family law courts. Each court is vested with its own jurisdiction. Jurisdiction refers to the types of cases the court is permitted to rule on. Sometimes, only one type of court can hear a particular case. For instance, bankruptcy cases can be ruled on only in bankruptcy court. In other situations, it is possible for more than one court to have jurisdiction. For instance, both a state and federal criminal court could have authority over a criminal case that is also considered an offense under federal and state drug laws.\"\n",
    "assert(rh_get_match(x, y, 25) == [(0, 0), (42, 39)]) \n",
    "\n",
    "# raise error when one string doesn't have any letters\n",
    "rh_get_match(\".\", \"q rkae ke wEria\", 4)\n"
   ]
  },
  {
   "cell_type": "markdown",
   "metadata": {},
   "source": [
    "# PART 2: Regular Hashing"
   ]
  },
  {
   "cell_type": "markdown",
   "metadata": {},
   "source": [
    "In the regular hashing approach, I used **djb2 hash function** created by Dan Bernstein. This hash function is deterministic and quite uniform. It uses a **multiplication** method to determine the hash value and perform fairly well at reducing collisions [Boyd (2012)](https://softwareengineering.stackexchange.com/questions/49550/which-hashing-algorithm-is-best-for-uniqueness-and-speed/145633#145633). \n",
    "\n",
    "In the following section, I test the asymtpotic growth of 5 different types of hash function including summation, xor bitwise operation, summation with consideration of order, random bits from seed, and djb2. I also found the number of collision observed if we were to use a linked list for each bucket."
   ]
  },
  {
   "cell_type": "code",
   "execution_count": 61,
   "metadata": {},
   "outputs": [],
   "source": [
    "import random\n",
    "\n",
    "# four different hash functions + djb2\n",
    "\n",
    "# summation\n",
    "def hash1(s):\n",
    "    ans = 0\n",
    "    for char in s:\n",
    "        ans += ord(char)\n",
    "    return ans \n",
    "\n",
    "# xor bitwise operation\n",
    "def hash2(s):\n",
    "    ans = 0\n",
    "    for char in s:\n",
    "        ans = ans ^ ord(char)\n",
    "    return ans\n",
    "\n",
    "# summation with consideration of order\n",
    "def hash3(s):\n",
    "    ans = 0\n",
    "    for char in s:\n",
    "        ans = ans*128 + ord(char)\n",
    "    return ans \n",
    "\n",
    "# random bits from seed\n",
    "def hash4(s):\n",
    "    random.seed(ord(s[0]))\n",
    "    return random.getrandbits(32)\n",
    "\n",
    "# djb2 hash function\n",
    "def hash_djb2(s):\n",
    "    hash = 5381\n",
    "    for c in s:\n",
    "        hash = (hash * 33) + ord(c)\n",
    "    return hash"
   ]
  },
  {
   "cell_type": "code",
   "execution_count": 84,
   "metadata": {},
   "outputs": [],
   "source": [
    "import string\n",
    "\n",
    "# generate random word\n",
    "def randomword(length):\n",
    "    return ''.join(random.choice(string.ascii_lowercase) for i in range(length))\n",
    "\n",
    "# create empty hash table\n",
    "def empty_hash_table(N):\n",
    "    return [[] for n in range(N)]\n",
    "\n",
    "# add new item to the hash table\n",
    "def add_to_hash_table(hash_table, item, hash_function):\n",
    "    N = len(hash_table)\n",
    "    hash_table[hash_function(item)%N].append(item)\n",
    "    \n",
    "    return hash_table\n",
    "\n",
    "# lookup hash table\n",
    "def contains(hash_table, item, hash_function):\n",
    "    N = len(hash_table)\n",
    "    \n",
    "    # return true if the item has already been stored in the hash_table\n",
    "    for i in hash_table[hash_function(item)%N]:\n",
    "        if i == item:\n",
    "            return True\n",
    "    return False\n",
    "\n",
    "# create 100,000 words of 10 characters each\n",
    "words = []\n",
    "for i in range(100000):\n",
    "    words.append(randomword(10))\n",
    "    \n",
    "# create empty hash tables\n",
    "table1 = empty_hash_table(5000)\n",
    "table2 = empty_hash_table(5000)\n",
    "table3 = empty_hash_table(5000)\n",
    "table4 = empty_hash_table(5000)\n",
    "table5 = empty_hash_table(5000)\n",
    "\n",
    "# add the words into the hash table\n",
    "for i in words:\n",
    "    add_to_hash_table(table1,i,hash1)\n",
    "    add_to_hash_table(table2,i,hash2)\n",
    "    add_to_hash_table(table3,i,hash3)\n",
    "    add_to_hash_table(table4,i,hash4)\n",
    "    add_to_hash_table(table5,i,hash_djb2)"
   ]
  },
  {
   "cell_type": "code",
   "execution_count": 94,
   "metadata": {},
   "outputs": [],
   "source": [
    "# initialze variables\n",
    "import matplotlib.pyplot as plt\n",
    "import time\n",
    "iteration = 50\n",
    "factor = 20\n",
    "\n",
    "# initialize storage\n",
    "test1 = []\n",
    "test2 = []\n",
    "test3 = []\n",
    "test4 = []\n",
    "test_djb2 = []\n",
    "\n",
    "# main for loop for runtime tracking\n",
    "for k in range(1,factor+1):\n",
    "    \n",
    "    # create 100,000 words of 10 characters each\n",
    "    words = []\n",
    "    for i in range(5000*k):\n",
    "        words.append(randomword(10))\n",
    "\n",
    "    # create empty hash tables\n",
    "    table1 = empty_hash_table(5000)\n",
    "    table2 = empty_hash_table(5000)\n",
    "    table3 = empty_hash_table(5000)\n",
    "    table4 = empty_hash_table(5000)\n",
    "    table5 = empty_hash_table(5000)\n",
    "\n",
    "    # add the words into the hash table\n",
    "    for i in words:\n",
    "        add_to_hash_table(table1,i,hash1)\n",
    "        add_to_hash_table(table2,i,hash2)\n",
    "        add_to_hash_table(table3,i,hash3)\n",
    "        add_to_hash_table(table4,i,hash4)\n",
    "        add_to_hash_table(table5,i,hash_djb2)\n",
    "\n",
    "    temp_test1 = 0\n",
    "    temp_test2 = 0\n",
    "    temp_test3 = 0\n",
    "    temp_test4 = 0\n",
    "    temp_test_djb2 = 0\n",
    "    \n",
    "    # interations for each n (size of string)\n",
    "    for i in words:\n",
    "        # hash table 1\n",
    "        start = time.time() \n",
    "        contains(table1, i, hash1) # call the search function\n",
    "        end = time.time()\n",
    "        temp_test1 += (end-start) # append the time to storage\n",
    "\n",
    "        # hash table 2\n",
    "        start = time.time() \n",
    "        contains(table2, i, hash2) # call the search function\n",
    "        end = time.time()\n",
    "        temp_test2 += (end-start) # append the time to storage\n",
    "\n",
    "        # hash table 3\n",
    "        start = time.time() \n",
    "        contains(table3, i, hash3) # call the search function\n",
    "        end = time.time()\n",
    "        temp_test3 += (end-start) # append the time to the list\n",
    "\n",
    "        # hash table 4\n",
    "        start = time.time() \n",
    "        contains(table4, i, hash4) # call the search function\n",
    "        end = time.time()\n",
    "        temp_test4 += (end-start) # append the time to storage\n",
    "\n",
    "        # hash function djb2\n",
    "        start = time.time() \n",
    "        contains(table5, i, hash_djb2) # call the search function\n",
    "        end = time.time()\n",
    "        temp_test_djb2 += (end-start) # append the time to storage\n",
    "\n",
    "    test1.append(temp_test1/iteration)\n",
    "    test2.append(temp_test2/iteration)\n",
    "    test3.append(temp_test3/iteration)\n",
    "    test4.append(temp_test4/iteration)\n",
    "    test_djb2.append(temp_test_djb2/iteration)\n",
    "    "
   ]
  },
  {
   "cell_type": "code",
   "execution_count": 97,
   "metadata": {},
   "outputs": [
    {
     "data": {
      "text/plain": [
       "<matplotlib.legend.Legend at 0x1238b2fd0>"
      ]
     },
     "execution_count": 97,
     "metadata": {},
     "output_type": "execute_result"
    },
    {
     "data": {
      "image/png": "[encoded data removed]",
      "text/plain": [
       "<Figure size 432x288 with 1 Axes>"
      ]
     },
     "metadata": {
      "needs_background": "light"
     },
     "output_type": "display_data"
    }
   ],
   "source": [
    "# plotting\n",
    "plt.plot(range(factor),test1, label = \"hash function 1\")\n",
    "plt.plot(range(factor),test2, label = \"hash function 2\")\n",
    "plt.plot(range(factor),test3, label = \"hash function 3\")\n",
    "plt.plot(range(factor),test4, label = \"hash function 4\")\n",
    "plt.plot(range(factor),test_djb2, label = \"djb2 hash function \")\n",
    "\n",
    "plt.xlabel(\"String Size n*10\")\n",
    "plt.ylabel(\"Time (s)\")\n",
    "plt.legend()"
   ]
  },
  {
   "cell_type": "code",
   "execution_count": 76,
   "metadata": {},
   "outputs": [
    {
     "name": "stdout",
     "output_type": "stream",
     "text": [
      "Number of collision for hash function 1: 99823\n",
      "Number of collision for hash function 2: 99968\n",
      "Number of collision for hash function 3: 95000\n",
      "Number of collision for hash function 4: 99974\n",
      "Number of collision for hash function 5: 95000\n"
     ]
    }
   ],
   "source": [
    "# initialize storage\n",
    "num_col_1 = 0\n",
    "num_col_2 = 0\n",
    "num_col_3 = 0\n",
    "num_col_4 = 0\n",
    "num_col_5 = 0\n",
    "\n",
    "# run through each hash table and \n",
    "# append the total number of collision (length-1) in each bucket \n",
    "# if it is not empty\n",
    "\n",
    "for i in range(len(table1)):\n",
    "    if len(table1[i])>1:\n",
    "        num_col_1+= len(table1[i])-1\n",
    "        \n",
    "for i in range(len(table2)):\n",
    "    if len(table2[i])>1:\n",
    "        num_col_2+= len(table2[i])-1\n",
    "        \n",
    "for i in range(len(table3)):\n",
    "    if len(table3[i])>1:\n",
    "        num_col_3+= len(table3[i])-1\n",
    "        \n",
    "for i in range(len(table4)):\n",
    "    if len(table4[i])>1:\n",
    "        num_col_4+= len(table4[i])-1\n",
    "        \n",
    "for i in range(len(table5)):\n",
    "    if len(table5[i])>1:\n",
    "        num_col_5+= len(table5[i])-1\n",
    "\n",
    "# print the result\n",
    "print(\"Number of collision for hash function 1:\",num_col_1)\n",
    "print(\"Number of collision for hash function 2:\",num_col_2)\n",
    "print(\"Number of collision for hash function 3:\",num_col_3)\n",
    "print(\"Number of collision for hash function 4:\",num_col_4)\n",
    "print(\"Number of collision for hash function 5:\",num_col_5)"
   ]
  },
  {
   "cell_type": "markdown",
   "metadata": {},
   "source": [
    "Both the figure and number of collision suggest hash function 3 and djb2 hash function have the best time complexity and the smallest number of collisions, justifying the use of it in regular hashing."
   ]
  },
  {
   "cell_type": "code",
   "execution_count": null,
   "metadata": {},
   "outputs": [],
   "source": [
    "# regular hashing\n",
    "\n",
    "# djb2 hash function\n",
    "def hash_djb2(s):\n",
    "    \"\"\"\n",
    "    Calculates the hash value of a string using djb2 hash function\n",
    "    Input:\n",
    "    - s: strings\n",
    "    Output:\n",
    "    - hash value of each string\n",
    "    \"\"\"\n",
    "    hash = 5381\n",
    "    for c in s:\n",
    "        hash = (hash * 33) + ord(c)\n",
    "    return hash\n",
    "\n",
    "def regular_get_match(x, y, k):\n",
    "    \"\"\"\n",
    "    Finds all common length-k substrings of x and y\n",
    "    NOT using rolling hashing on both strings.\n",
    "    \n",
    "    Input:\n",
    "    - x, y: strings\n",
    "    - k: int, length of substring\n",
    "    \n",
    "    Output:\n",
    "    - A list of tuples (i, j)\n",
    "    \"\"\"\n",
    "    # avoid case problem\n",
    "    x = x.lower()\n",
    "    y = y.lower() \n",
    "    \n",
    "    # remove unwanted characters and concatenate \n",
    "    x = x.replace(\" \",\"\").replace(\"!\", \"\").replace(\"?\", \"\").replace(\".\", \"\").replace(\",\", \"\").replace(\";\", \"\").replace(\"/\", \"\")\n",
    "    y = y.replace(\" \",\"\").replace(\"!\", \"\").replace(\"?\", \"\").replace(\".\", \"\").replace(\",\", \"\").replace(\";\", \"\").replace(\"/\", \"\")\n",
    "    \n",
    "    # find the length of each string\n",
    "    len_x = len(x)\n",
    "    len_y = len(y)   \n",
    "    \n",
    "    # raise error if input strings contains no letters\n",
    "    if len_x == 0 or len_y == 0:\n",
    "        raise ValueError(\"Input needs to have at least one letter\")\n",
    "        \n",
    "    # check if the input string is larger than k and readjust the k\n",
    "    while len_x < k or len_y < k:\n",
    "        k -= 1\n",
    "    \n",
    "    # intialize stroage\n",
    "    storage = []\n",
    "    \n",
    "    # create a hash table using dictionaries\n",
    "    htable = {}\n",
    "    \n",
    "    # hashing using djb2 hash function\n",
    "    for index in range(len_x-k+1):\n",
    "        hash_val = hash_djb2(x[index:k+index])\n",
    "        htable[hash_val] = index # append the value into the dict\n",
    "    \n",
    "    # find the common substrings for every substring in y using djb2 hash function\n",
    "    for index in range(len_y-k+1):\n",
    "        hash_val = hash_djb2(y[index:k+index])\n",
    "\n",
    "        # if lookup suceeds then store the value\n",
    "        if hash_val in htable.keys():\n",
    "            storage.append((htable[hash_val],index))\n",
    "            \n",
    "    return storage"
   ]
  },
  {
   "cell_type": "code",
   "execution_count": 5,
   "metadata": {},
   "outputs": [
    {
     "ename": "ValueError",
     "evalue": "Input needs to have at least one letter",
     "output_type": "error",
     "traceback": [
      "\u001b[0;31m---------------------------------------------------------------------------\u001b[0m",
      "\u001b[0;31mValueError\u001b[0m                                Traceback (most recent call last)",
      "\u001b[0;32m<ipython-input-5-2b86f80bc583>\u001b[0m in \u001b[0;36m<module>\u001b[0;34m\u001b[0m\n\u001b[1;32m     15\u001b[0m \u001b[0;34m\u001b[0m\u001b[0m\n\u001b[1;32m     16\u001b[0m \u001b[0;31m# raise error when one string doesn't have any letters\u001b[0m\u001b[0;34m\u001b[0m\u001b[0;34m\u001b[0m\u001b[0;34m\u001b[0m\u001b[0m\n\u001b[0;32m---> 17\u001b[0;31m \u001b[0mregular_get_match\u001b[0m\u001b[0;34m(\u001b[0m\u001b[0;34m\".\"\u001b[0m\u001b[0;34m,\u001b[0m \u001b[0;34m\"q rkae ke wEria\"\u001b[0m\u001b[0;34m,\u001b[0m \u001b[0;36m4\u001b[0m\u001b[0;34m)\u001b[0m\u001b[0;34m\u001b[0m\u001b[0;34m\u001b[0m\u001b[0m\n\u001b[0m",
      "\u001b[0;32m<ipython-input-4-dc9322cb454d>\u001b[0m in \u001b[0;36mregular_get_match\u001b[0;34m(x, y, k)\u001b[0m\n\u001b[1;32m     41\u001b[0m     \u001b[0;31m# raise error if input strings contains no letters\u001b[0m\u001b[0;34m\u001b[0m\u001b[0;34m\u001b[0m\u001b[0;34m\u001b[0m\u001b[0m\n\u001b[1;32m     42\u001b[0m     \u001b[0;32mif\u001b[0m \u001b[0mlen_x\u001b[0m \u001b[0;34m==\u001b[0m \u001b[0;36m0\u001b[0m \u001b[0;32mor\u001b[0m \u001b[0mlen_y\u001b[0m \u001b[0;34m==\u001b[0m \u001b[0;36m0\u001b[0m\u001b[0;34m:\u001b[0m\u001b[0;34m\u001b[0m\u001b[0;34m\u001b[0m\u001b[0m\n\u001b[0;32m---> 43\u001b[0;31m         \u001b[0;32mraise\u001b[0m \u001b[0mValueError\u001b[0m\u001b[0;34m(\u001b[0m\u001b[0;34m\"Input needs to have at least one letter\"\u001b[0m\u001b[0;34m)\u001b[0m\u001b[0;34m\u001b[0m\u001b[0;34m\u001b[0m\u001b[0m\n\u001b[0m\u001b[1;32m     44\u001b[0m \u001b[0;34m\u001b[0m\u001b[0m\n\u001b[1;32m     45\u001b[0m     \u001b[0;31m# check if the input string is larger than k and readjust the k\u001b[0m\u001b[0;34m\u001b[0m\u001b[0;34m\u001b[0m\u001b[0;34m\u001b[0m\u001b[0m\n",
      "\u001b[0;31mValueError\u001b[0m: Input needs to have at least one letter"
     ]
    }
   ],
   "source": [
    "# test cases\n",
    "# lowercase/uppercase\n",
    "assert(regular_get_match(\"aera er re Eria\", \"q rkae ke wEria\", 4) ==  [(8, 8)])\n",
    "\n",
    "#  unwanted charcters\n",
    "assert(regular_get_match(\"When she walks, she's like a samba/That swings so cool and sways so gently/That when she passes Each one she passes goes, ah\",\"When she walks, she's like a samba\", 25) == [(0, 0), (1, 1), (2, 2)])\n",
    "\n",
    "# when k is larger the actual string, return the largerst possible k\n",
    "assert(regular_get_match(\"When she walks, she's like a samba/That swings so cool and sways so gently/That when she passes Each one she passes goes, ah\",\"When she walks, she's like a samba\", 50) == [(0, 0)])\n",
    "\n",
    "# real text example\n",
    "x = \"The legal system is made up of civil courts, criminal courts and specialty courts, such as family law courts and bankruptcy courts. Each court has its own jurisdiction, which refers to the cases that the court is allowed to hear. In some instances, a case can only be heard in one type of court. For example, a bankruptcy case must be heard in a bankruptcy court. In other instances, more than one court could potentially have jurisdiction. For example, a federal criminal court and a state criminal court would each have jurisdiction over a crime that is a federal drug offense but that is also a state offense.\"\n",
    "y = \"The legal system is made up of criminal and civil courts and specialty courts like bankruptcy and family law courts. Each court is vested with its own jurisdiction. Jurisdiction refers to the types of cases the court is permitted to rule on. Sometimes, only one type of court can hear a particular case. For instance, bankruptcy cases can be ruled on only in bankruptcy court. In other situations, it is possible for more than one court to have jurisdiction. For instance, both a state and federal criminal court could have authority over a criminal case that is also considered an offense under federal and state drug laws.\"\n",
    "assert(regular_get_match(x, y, 25) == [(0, 0), (42, 39)])\n",
    "\n",
    "# raise error when one string doesn't have any letters\n",
    "regular_get_match(\".\", \"q rkae ke wEria\", 4)"
   ]
  },
  {
   "cell_type": "markdown",
   "metadata": {},
   "source": [
    "# PART 3: Investigation"
   ]
  },
  {
   "cell_type": "markdown",
   "metadata": {},
   "source": [
    "Carefully describe how you would use the code above to investigate the extent of plagiarism. Enumerate potential pitfalls and challenges of applying this algorithm for real-life use. Make sure you justify all the assumptions you make."
   ]
  },
  {
   "cell_type": "markdown",
   "metadata": {},
   "source": [
    "Using the above algorithm, we can only estimate the plagiarism through the longest common substring shown below. Aggregating the common substrings other than the longest common substring would result in overlapping of common substrings. For example, when there is a common substring at k = 9, there will be 2 common substrings as k = 8. This makes it impossible to figure out the actual similarities between strings; therefore, the above approach could be seen as a bad estimate of plagiarism."
   ]
  },
  {
   "cell_type": "code",
   "execution_count": 164,
   "metadata": {},
   "outputs": [],
   "source": [
    "# plagiarism checker based on the longest common substring\n",
    "def plagiarism_checker(x, y):\n",
    "    \n",
    "    # replace unwanted charcters\n",
    "    x = x.replace(\" \",\"\").replace(\"!\", \"\").replace(\"?\", \"\").replace(\".\", \"\").replace(\",\", \"\").replace(\";\", \"\").replace(\"/\", \"\")\n",
    "    y = y.replace(\" \",\"\").replace(\"!\", \"\").replace(\"?\", \"\").replace(\".\", \"\").replace(\",\", \"\").replace(\";\", \"\").replace(\"/\", \"\")\n",
    "    \n",
    "    # find the length of string\n",
    "    k = len(x)\n",
    "    \n",
    "    # create a dummy list to store the result of get_match\n",
    "    common = []\n",
    "    \n",
    "    # while common is empty run until the largest common substring emerge \n",
    "    while not common:\n",
    "        common = rh_get_match(x,y,k)\n",
    "        maximum = k # store k\n",
    "        k -= 1 # update k for every iteration\n",
    "    freq = len(common) # find the frequency of the longest common substring\n",
    "    \n",
    "    # calculate the percentage of plagiarism \n",
    "    # by multplying the frequency and the length k before dividing it with the length of string\n",
    "    percent = freq*maximum/len(x)\n",
    "    return percent * 100"
   ]
  },
  {
   "cell_type": "markdown",
   "metadata": {},
   "source": [
    "Calculate edit distance is another way to approach the same question. In the following cell, I generated a plagiarism checker that uses edit distance as the main function in determining whether a text is plagiarized or not. The concept of edit distance is looking at how many \"edits\" (insert, replace, delete) are needed in order to change substring a to substring b.\n",
    "\n",
    "In the following algorithm, a bottom-up dynamic programming is used by separating the entire problem into subproblems, which are the edits needed at each individual character pair \\[i,j\\]. The advantage of dynamic programming is that edit distance of the whole string can be simply based on the former result, meaning that finding the edit distance of the whole string only need to go through all possible pair once ($O(n\\times m)$ with $n$ = length of one substring, $m$ = length of the other substring). \n",
    "\n",
    "The **optimal substructure** is finding the minimum between the three types of edits at each subproblem. The storage of this information avoids the problem of the naive solution where the time complexity is $O(3^n)$ as we need to recur through all three types of edits at each problem."
   ]
  },
  {
   "cell_type": "code",
   "execution_count": 165,
   "metadata": {},
   "outputs": [],
   "source": [
    "# plagiarims checker based on edit distance\n",
    "def plagiarism_checker_edit(x, y):\n",
    "    \n",
    "    # replace unwanted charcters\n",
    "    x = x.replace(\" \",\"\").replace(\"!\", \"\").replace(\"?\", \"\").replace(\".\", \"\").replace(\",\", \"\").replace(\";\", \"\").replace(\"/\", \"\")\n",
    "    y = y.replace(\" \",\"\").replace(\"!\", \"\").replace(\"?\", \"\").replace(\".\", \"\").replace(\",\", \"\").replace(\";\", \"\").replace(\"/\", \"\")\n",
    "    \n",
    "    # find the length of each string\n",
    "    len_x = len(x)\n",
    "    len_y = len(y)\n",
    "    \n",
    "    # create table (len_x*len_y) to store the results\n",
    "    table = [[0 for x in range(len_y+1)] for x in range(len_x+1)]\n",
    " \n",
    "    # bottom-up dynamic prgramming\n",
    "    for i in range(len_x+1):\n",
    "        for j in range(len_y+1):\n",
    " \n",
    "            # if the first string is empty, insert all characters of the second string\n",
    "            if i == 0:\n",
    "                table[i][j] = j\n",
    " \n",
    "            # if the second string is empty, insert all characters of the first string\n",
    "            elif j == 0:\n",
    "                table[i][j] = i\n",
    " \n",
    "            # if the last characters are same, ignore the last character and recur for remaining string\n",
    "            elif x[i-1] == y[j-1]:\n",
    "                table[i][j] = table[i-1][j-1]\n",
    " \n",
    "            # if last character are different, check all possibilities and to find the minimum\n",
    "            else:\n",
    "                table[i][j] = 1 + min(table[i][j-1], # insert\n",
    "                                   table[i-1][j], # remove\n",
    "                                   table[i-1][j-1]) # replace\n",
    "    \n",
    "    # calcualte the plagiarism percetange using 1 - edit distance per char \n",
    "    # through 1 - dividng the distance with the length of the string\n",
    "    percent = 1 - table[len_x][len_y]/len_x\n",
    "    \n",
    "    return percent * 100\n"
   ]
  },
  {
   "cell_type": "markdown",
   "metadata": {},
   "source": [
    "The test cases included in this section are one fairly similar text with minor changes, the reorder of the similar text, and a real-life example of plagiarized text. I also deleted the top 10 common words in English based on [this website](http://norvig.com/mayzner.html) in another approach to see if fuzziness can be removed from the texts."
   ]
  },
  {
   "cell_type": "code",
   "execution_count": 171,
   "metadata": {},
   "outputs": [
    {
     "name": "stdout",
     "output_type": "stream",
     "text": [
      "Normal Case\n",
      "\n",
      "Most common substring (%): 54.05\n",
      "Edit distance (%): 91.89\n",
      "Most common substring (%): 51.35\n",
      "Edit distance (%): 16.22\n",
      "Most common substring (%): 10.16\n",
      "Edit distance (%): 46.34\n",
      "\n",
      "Eliminate Top 10 Common Words\n",
      "\n",
      "Most common substring (%): 56.25\n",
      "Edit distance (%): 90.62\n",
      "Most common substring (%): 53.12\n",
      "Edit distance (%): 18.75\n",
      "Most common substring (%): 5.77\n",
      "Edit distance (%): 42.73\n"
     ]
    }
   ],
   "source": [
    "# fairly similar example\n",
    "print(\"Normal Case\\n\")\n",
    "x = \"Doe a deer a female deer, ray a cup of golden son\"\n",
    "y = \"Doe a deer a female deer, re a cup of golden sun\"\n",
    "print(f\"Most common substring (%): {plagiarism_checker(x, y):.2f}\")\n",
    "print(f\"Edit distance (%): {plagiarism_checker_edit(x, y):.2f}\")\n",
    "\n",
    "# moving example\n",
    "x = \"ray a cup of golden son, Doe a deer a female deer\"\n",
    "y = \"Doe a deer a female deer, re a cup of golden sun\"\n",
    "print(f\"Most common substring (%): {plagiarism_checker(x, y):.2f}\")\n",
    "print(f\"Edit distance (%): {plagiarism_checker_edit(x, y):.2f}\")\n",
    "\n",
    "# real text example\n",
    "x = \"The legal system is made up of civil courts, criminal courts and specialty courts, such as family law courts and bankruptcy courts. Each court has its own jurisdiction, which refers to the cases that the court is allowed to hear. In some instances, a case can only be heard in one type of court. For example, a bankruptcy case must be heard in a bankruptcy court. In other instances, more than one court could potentially have jurisdiction. For example, a federal criminal court and a state criminal court would each have jurisdiction over a crime that is a federal drug offense but that is also a state offense.\"\n",
    "y = \"The legal system is made up of criminal and civil courts and specialty courts like bankruptcy and family law courts. Each court is vested with its own jurisdiction. Jurisdiction refers to the types of cases the court is permitted to rule on. Sometimes, only one type of court can hear a particular case. For instance, bankruptcy cases can be ruled on only in bankruptcy court. In other situations, it is possible for more than one court to have jurisdiction. For instance, both a state and federal criminal court could have authority over a criminal case that is also considered an offense under federal and state drug laws.\"\n",
    "print(f\"Most common substring (%): {plagiarism_checker(x, y):.2f}\")\n",
    "print(f\"Edit distance (%): {plagiarism_checker_edit(x, y):.2f}\")\n",
    "\n",
    "# eliminate 10 common words in English (based on data from http://norvig.com/mayzner.html)\n",
    "\n",
    "print(\"\\nEliminate Top 10 Common Words\\n\")\n",
    "# fairly similar example\n",
    "x = \"Doe a deer a female deer, ray a cup of golden son\"\n",
    "y = \"Doe a deer a female deer, re a cup of golden sun\"\n",
    "common_words = [\"the\",\"of\",\"to\",\"in\",\"is\",\"for\",\"that\",\"a\",\"it\"]\n",
    "result_x  = [word for word in x.split() if word.lower() not in common_words]\n",
    "result_y  = [word for word in y.split() if word.lower() not in common_words]\n",
    "no_space_x = ''.join(result_x)\n",
    "no_space_y = ''.join(result_y)\n",
    "\n",
    "print(f\"Most common substring (%): {plagiarism_checker(no_space_x, no_space_y):.2f}\")\n",
    "print(f\"Edit distance (%): {plagiarism_checker_edit(no_space_x, no_space_y):.2f}\")\n",
    "\n",
    "# moving example\n",
    "x = \"ray a cup of golden son, Doe a deer a female deer\"\n",
    "y = \"Doe a deer a female deer, re a cup of golden sun\"\n",
    "result_x  = [word for word in x.split() if word.lower() not in common_words]\n",
    "result_y  = [word for word in y.split() if word.lower() not in common_words]\n",
    "no_space_x = ''.join(result_x)\n",
    "no_space_y = ''.join(result_y)\n",
    "\n",
    "print(f\"Most common substring (%): {plagiarism_checker(no_space_x, no_space_y):.2f}\")\n",
    "print(f\"Edit distance (%): {plagiarism_checker_edit(no_space_x, no_space_y):.2f}\")\n",
    "\n",
    "# real text example\n",
    "x = \"The legal system is made up of civil courts, criminal courts and specialty courts, such as family law courts and bankruptcy courts. Each court has its own jurisdiction, which refers to the cases that the court is allowed to hear. In some instances, a case can only be heard in one type of court. For example, a bankruptcy case must be heard in a bankruptcy court. In other instances, more than one court could potentially have jurisdiction. For example, a federal criminal court and a state criminal court would each have jurisdiction over a crime that is a federal drug offense but that is also a state offense.\"\n",
    "y = \"The legal system is made up of criminal and civil courts and specialty courts like bankruptcy and family law courts. Each court is vested with its own jurisdiction. Jurisdiction refers to the types of cases the court is permitted to rule on. Sometimes, only one type of court can hear a particular case. For instance, bankruptcy cases can be ruled on only in bankruptcy court. In other situations, it is possible for more than one court to have jurisdiction. For instance, both a state and federal criminal court could have authority over a criminal case that is also considered an offense under federal and state drug laws.\"\n",
    "result_x  = [word for word in x.split() if word.lower() not in common_words]\n",
    "result_y  = [word for word in y.split() if word.lower() not in common_words]\n",
    "no_space_x = ''.join(result_x)\n",
    "no_space_y = ''.join(result_y)\n",
    "\n",
    "print(f\"Most common substring (%): {plagiarism_checker(no_space_x, no_space_y):.2f}\")\n",
    "print(f\"Edit distance (%): {plagiarism_checker_edit(no_space_x, no_space_y):.2f}\")"
   ]
  },
  {
   "cell_type": "markdown",
   "metadata": {},
   "source": [
    "The three test cases show the advantages and disadvantages of each approach. The longest common substring approach is generally bad as the text needs to be exactly the same for it to register as plagiarism. Therefore, the difference between a fully-copied text and a fully-copied text with a one-letter difference at the middle text will have 100% and 50% accuracy accordingly, which is phenomenally bad as they are both essentially copied text. This also indicates this approach is generally useless for real-life examples as most of them would have certain alterations.\n",
    "\n",
    "Edit distance, on the other hand, is really good at detecting these minor changes as it looks at the number of \"edits\" at each character in the string, essentially avoiding the problem of the small difference between texts. This fuzzy approach is promising for real-life purposes, with the exception of cases where sentences are reordered. For example, In the \"moving example\" of the text case, the longest common substring approach turned out to better at identifying plagiarism since it recognized the patterns regardless of order it is presented in the text.\n",
    "\n",
    "Furthermore, I also see if eliminating the top 10 common words in English would avoid problems with minor changes; however, it doesn't seem to change the general pattern of the two approaches.\n",
    "\n",
    "Nevertheless, a lot of plagiarism occurs in both reordering sentences and changing the minor parts or usage of some words. This will go undetectable even if we use both methods as the longest common string will observe only the fragments, while the edit distance will find low resemblance due to reordering."
   ]
  },
  {
   "cell_type": "markdown",
   "metadata": {},
   "source": [
    "# PART 4: Complexity Analysis"
   ]
  },
  {
   "cell_type": "markdown",
   "metadata": {},
   "source": [
    "Discuss the time complexity of each algorithmic version. Compare and contrast the two versions by experimenting on self-generated inputs. You are encouraged to generate inputs of various natures as that would be more likely to tease out the strengths and/or weaknesses of the versions."
   ]
  },
  {
   "cell_type": "code",
   "execution_count": 33,
   "metadata": {},
   "outputs": [],
   "source": [
    "import urllib.request\n",
    "\n",
    "# creating test case data of speeches from Kennedy and King\n",
    "bad_chars = [';', ',', '.', '?', '!', '_', '[', ']', ':', '“', '”', '\"', '-', '-',\"“\",\"\\r\", \"\\n\",\"'\"]\n",
    "speaker = 'Kennedy'\n",
    "speech = urllib.request.urlopen(f'https://bit.ly/CS110-{speaker}')\n",
    "\n",
    "lines = []\n",
    "for line in speech:\n",
    "    line = line.decode(encoding = 'utf-8')\n",
    "    line = filter(lambda i: i not in bad_chars, line)\n",
    "    lines.append(\"\".join(line))\n",
    "text_Kennedy = \"\".join(lines)\n",
    "\n",
    "speaker = 'King'\n",
    "speech = urllib.request.urlopen(f'https://bit.ly/CS110-{speaker}')\n",
    "\n",
    "lines = []\n",
    "for line in speech:\n",
    "    line = line.decode(encoding = 'utf-8')\n",
    "    line = filter(lambda i: i not in bad_chars, line)\n",
    "    lines.append(\"\".join(line))\n",
    "text_King = \"\".join(lines)"
   ]
  },
  {
   "cell_type": "markdown",
   "metadata": {},
   "source": [
    "The following graph shows the time complexity difference of the two approaches while k (length of each substring) increases."
   ]
  },
  {
   "cell_type": "code",
   "execution_count": 40,
   "metadata": {},
   "outputs": [],
   "source": [
    "# initialze variables\n",
    "x = text_Kennedy[:2000]\n",
    "y = text_King[:2000]\n",
    "iteration = 10\n",
    "factor = 100\n",
    "\n",
    "# initialize storage\n",
    "regular_k = []\n",
    "rh_k = []\n",
    "\n",
    "# main for loop for runtime tracking\n",
    "for k in range(int(len(y)/factor)):\n",
    "    temp_regular = 0\n",
    "    temp_rh = 0\n",
    "    \n",
    "    # interations for each k (substring size)\n",
    "    for i in range(iteration):\n",
    "        # regular hashing\n",
    "        start = time.time()\n",
    "        regular_get_match(x, y, k*factor)\n",
    "        end = time.time()\n",
    "        temp_regular += end-start\n",
    "        \n",
    "        # rolling hashing\n",
    "        start = time.time()\n",
    "        rh_get_match(x, y, k*factor)\n",
    "        end = time.time()\n",
    "        temp_rh += end-start\n",
    "    \n",
    "    regular_k.append(temp_regular/iteration)\n",
    "    rh_k.append(temp_rh/iteration)"
   ]
  },
  {
   "cell_type": "code",
   "execution_count": 41,
   "metadata": {},
   "outputs": [
    {
     "data": {
      "text/plain": [
       "<matplotlib.legend.Legend at 0x1223bcb90>"
      ]
     },
     "execution_count": 41,
     "metadata": {},
     "output_type": "execute_result"
    },
    {
     "data": {
      "image/png": "[encoded data removed]",
      "text/plain": [
       "<Figure size 432x288 with 1 Axes>"
      ]
     },
     "metadata": {
      "needs_background": "light"
     },
     "output_type": "display_data"
    }
   ],
   "source": [
    "# plotting\n",
    "plt.plot(range(int(len(y)/factor)),regular_k, label = \"Regular Hashing\")\n",
    "plt.plot(range(int(len(y)/factor)),rh_k, label = \"Rolling Hashing\" )\n",
    "plt.xlabel(\"Substring Size k*100\")\n",
    "plt.ylabel(\"Time (s)\")\n",
    "plt.legend()"
   ]
  },
  {
   "cell_type": "markdown",
   "metadata": {},
   "source": [
    "We see that as k increases, the runtime of regular hashing initially increases but later decreases. I suspect this is because as the substring size increases, the number of inserts into the hash table needed decreases, resulting in better time complexity, while runtime for the hash function itself barely increases as the length of the substring increases. On the other hand, the runtime for rolling hashing stays low even as k varies. Therefore, generally-speaking, the runtimes for both algorithms in terms of k are $O(1)$, indicating that they are independent of k."
   ]
  },
  {
   "cell_type": "markdown",
   "metadata": {},
   "source": [
    "The following graph shows the time complexity difference of the two approaches while n (length of each string) increases."
   ]
  },
  {
   "cell_type": "code",
   "execution_count": 48,
   "metadata": {},
   "outputs": [],
   "source": [
    "# initialze variables\n",
    "x = text_Kennedy\n",
    "y = text_King\n",
    "k = 10\n",
    "iteration = 10\n",
    "factor = 50\n",
    "\n",
    "# initialize storage\n",
    "regular = []\n",
    "rh = []\n",
    "\n",
    "# main for loop for runtime tracking\n",
    "for k in range(int(len(y)/factor)):\n",
    "    temp_regular = 0\n",
    "    temp_rh = 0\n",
    "    \n",
    "    # interations for each n (number of char in the string)\n",
    "    for i in range(iteration):\n",
    "        if k:\n",
    "            # regular hashing runtime\n",
    "            start = time.time()\n",
    "            regular_get_match(x[:k*factor], y[:k*factor], k)\n",
    "            end = time.time()\n",
    "            temp_regular += end-start\n",
    "            \n",
    "            # rolling hashing runtime\n",
    "            start = time.time()\n",
    "            rh_get_match(x[:k*factor], y[:k*factor], k)\n",
    "            end = time.time()\n",
    "            temp_rh += end-start\n",
    "        \n",
    "    regular.append(temp_regular/iteration)\n",
    "    rh.append(temp_rh/iteration)"
   ]
  },
  {
   "cell_type": "code",
   "execution_count": 49,
   "metadata": {},
   "outputs": [
    {
     "data": {
      "text/plain": [
       "<matplotlib.legend.Legend at 0x122a2d150>"
      ]
     },
     "execution_count": 49,
     "metadata": {},
     "output_type": "execute_result"
    },
    {
     "data": {
      "image/png": "[encoded data removed]",
      "text/plain": [
       "<Figure size 432x288 with 1 Axes>"
      ]
     },
     "metadata": {
      "needs_background": "light"
     },
     "output_type": "display_data"
    }
   ],
   "source": [
    "# plotting\n",
    "plt.plot(range(int(len(y)/factor)),regular, label = \"Regular Hashing\")\n",
    "plt.plot(range(int(len(y)/factor)),rh, label = \"Rolling Hashing\")\n",
    "plt.xlabel(\"String Size n*100\")\n",
    "plt.ylabel(\"Time (s)\")\n",
    "plt.legend()"
   ]
  },
  {
   "cell_type": "markdown",
   "metadata": {},
   "source": [
    "In this plot, we see that as n increases, the order of growth of the runtime of regular hashing is asymptotically larger than that of rolling hashing. This means that the time complexity of regular hashing is larger than rolling hashing, with rolling hashing having a time complexity close to $O(1)$ and regular hashing closer to $O(n)$. This suggests, in terms of time complexity, rolling hashing is better than regular hashing.\n",
    "\n",
    "One important note is that these two plots above are using real-life data; therefore, I can say that rolling hashing is better than regular hashing realistically."
   ]
  },
  {
   "cell_type": "markdown",
   "metadata": {},
   "source": [
    "In the following two plots, I changed inputs of strings with the first plot showing the edge case of completely different strings and the second plot showing a completely exact string."
   ]
  },
  {
   "cell_type": "code",
   "execution_count": 183,
   "metadata": {},
   "outputs": [],
   "source": [
    "# initialze variables\n",
    "a = \"a\"*10000\n",
    "b = \"b\"*10000\n",
    "k = 100\n",
    "iteration = 50\n",
    "factor = 100\n",
    "\n",
    "# initialize storage\n",
    "regular_a = []\n",
    "rh_a = []\n",
    "\n",
    "# main for loop for runtime tracking\n",
    "for k in range(int(len(a)/factor)):\n",
    "    temp_regular = 0\n",
    "    temp_rh = 0\n",
    "    \n",
    "    # interations for each n (number of char in the string)\n",
    "    for i in range(iteration):\n",
    "        if k:\n",
    "            # regular hashing runtime\n",
    "            start = time.time()\n",
    "            regular_get_match(x[:k*factor], y[:k*factor], k)\n",
    "            end = time.time()\n",
    "            temp_regular += end-start\n",
    "            \n",
    "            # rolling hashing runtime\n",
    "            start = time.time()\n",
    "            rh_get_match(x[:k*factor], y[:k*factor], k)\n",
    "            end = time.time()\n",
    "            temp_rh += end-start\n",
    "        \n",
    "    regular_a.append(temp_regular/iteration)\n",
    "    rh_a.append(temp_rh/iteration)"
   ]
  },
  {
   "cell_type": "code",
   "execution_count": 184,
   "metadata": {},
   "outputs": [
    {
     "data": {
      "text/plain": [
       "<matplotlib.legend.Legend at 0x125eb9090>"
      ]
     },
     "execution_count": 184,
     "metadata": {},
     "output_type": "execute_result"
    },
    {
     "data": {
      "image/png": "[encoded data removed]",
      "text/plain": [
       "<Figure size 432x288 with 1 Axes>"
      ]
     },
     "metadata": {
      "needs_background": "light"
     },
     "output_type": "display_data"
    }
   ],
   "source": [
    "# plotting\n",
    "plt.plot(range(int(len(a)/factor)),regular_a, label = \"Regular Hashing\")\n",
    "plt.plot(range(int(len(a)/factor)),rh_a, label = \"Rolling Hashing\")\n",
    "plt.xlabel(\"String Size n*100\")\n",
    "plt.ylabel(\"Time (s)\")\n",
    "plt.legend()"
   ]
  },
  {
   "cell_type": "code",
   "execution_count": 187,
   "metadata": {},
   "outputs": [],
   "source": [
    "# initialze variables\n",
    "a = \"b\"*10000\n",
    "b = \"b\"*10000\n",
    "k = 100\n",
    "iteration = 50\n",
    "factor = 100\n",
    "\n",
    "# initialize storage\n",
    "regular_b = []\n",
    "rh_b = []\n",
    "\n",
    "# main for loop for runtime tracking\n",
    "for k in range(int(len(b)/factor)):\n",
    "    temp_regular = 0\n",
    "    temp_rh = 0\n",
    "    \n",
    "    # interations for each n (number of char in the string)\n",
    "    for i in range(iteration):\n",
    "        if k:\n",
    "            # regular hashing runtime\n",
    "            start = time.time()\n",
    "            regular_get_match(x[:k*factor], y[:k*factor], k)\n",
    "            end = time.time()\n",
    "            temp_regular += end-start\n",
    "            \n",
    "            # rolling hashing runtime\n",
    "            start = time.time()\n",
    "            rh_get_match(x[:k*factor], y[:k*factor], k)\n",
    "            end = time.time()\n",
    "            temp_rh += end-start\n",
    "        \n",
    "    regular_b.append(temp_regular/iteration)\n",
    "    rh_b.append(temp_rh/iteration)"
   ]
  },
  {
   "cell_type": "code",
   "execution_count": 188,
   "metadata": {},
   "outputs": [
    {
     "data": {
      "text/plain": [
       "<matplotlib.legend.Legend at 0x1269bf610>"
      ]
     },
     "execution_count": 188,
     "metadata": {},
     "output_type": "execute_result"
    },
    {
     "data": {
      "image/png": "[encoded data removed]",
      "text/plain": [
       "<Figure size 432x288 with 1 Axes>"
      ]
     },
     "metadata": {
      "needs_background": "light"
     },
     "output_type": "display_data"
    }
   ],
   "source": [
    "# plotting\n",
    "plt.plot(range(int(len(b)/factor)),regular_b, label = \"Regular Hashing\")\n",
    "plt.plot(range(int(len(b)/factor)),rh_b, label = \"Rolling Hashing\")\n",
    "plt.xlabel(\"String Size n*100\")\n",
    "plt.ylabel(\"Time (s)\")\n",
    "plt.legend()"
   ]
  },
  {
   "cell_type": "markdown",
   "metadata": {},
   "source": [
    "The two plots above show similar asymptotic behaviors with the previous plots with regular hashing increasing in the order of growth of $O(n)$ while the rolling hashing increasing in the order of growth of $O(1)$. This suggests that rolling hashing is time complexity-wise more advantages to regular hashing."
   ]
  },
  {
   "cell_type": "markdown",
   "metadata": {},
   "source": [
    "# PART 5: HCs and LOs"
   ]
  },
  {
   "cell_type": "markdown",
   "metadata": {},
   "source": [
    "List all the LOs and HCs you have exercised while working on this final assignment as well as a thorough justification of their application. Review your previous assignments and in-class grades, and reflect on your application of these LOS has evolved over time"
   ]
  },
  {
   "cell_type": "markdown",
   "metadata": {},
   "source": [
    "- #LOs\n",
    "    - #DataStructures\n",
    "        - In this assignment, I used hash tables as the data structure of choice to store the data of each substring. In Part 1, I discussed the advantages of hash tables in terms of time complexity, which essentially cuts the time complexity in half due to the O(1) lookup time.\n",
    "        - Looking back at the beginning of the semester, I definitely improved my understanding of different data structures, namely lists, heaps, priority queues, trees, and now hash tables. I also understand where and when to use each structure with the goal of minimizing the time complexity.\n",
    "    - #ComputaionalSolution\n",
    "        - In this assignment, I formulated a computational solution for detecting plagiarism. I dissect the problem into pre-processing of the strings, input into the algorithm, and output by showing the percentage of similarity between the two strings. This value can then use to evaluate plagiarism of the two strings.\n",
    "        - At the beginning of the semester, finding a computational solution was very hard, especially during the scheduler assignment. However, after learning more problems during the dynamic programming algorithm classes to resizing and tries, I now have a clearer understanding of how to approach a problem and what are some steps needed (research, formulate a flow chart) to effectively solve a problem.\n",
    "    - #ComputationalCritique\n",
    "        - In this assignment, I compared and critiqued the accuracy of two different solutions to plagiarism detection, namely the longest common substring approach and the edit distance approach. I went into details on where the longest common substring or edit distance would be better and generally which algorithm is better. In addition, I talked about the limitation of both solutions, which requires another algorithm to satisfy the needs.\n",
    "        - From the start of the semester, I couldn't really compare which solution is better at performing a task. However, as we learn more about test cases, time complexity, and data structures, I gradually come to the understanding that according to the different needs of a problem, different algorithms are better at each case - notwithstanding some algorithms that are just bad.\n",
    "    - #DynamicProgramming:\n",
    "        - In this assignment, I used dynamic programming to calculate the edit distance in part 3. This method reduces the time complexity of the algorithm from $O(3^n)$ to $O(n^2)$, which makes it computationally feasible for running when the n increases. I also specify that I used a bottom-up approach as well as the optimal substructure of the subproblem in order to achieve global optimization.\n",
    "        - I didn't have a chance to explore more dynamic programming, but I think the class on comparing greedy algorithms and dynamic programming let me realized the pros and cons of dynamic programming and also when to use dynamic programming (optimal substructure, repeating use of subproblem, etc.).\n",
    "    - #ComplexityAnalysis:\n",
    "        - In this assignment, I used time complexity analysis multiple times to specify which algorithm is better than another and how different approaches decrease the time complexity of the algorithm. In addition, I plotted figures on the runtimes of the two get_match algorithms to see whether the time complexity of regular hashing or rolling hashing is better.\n",
    "        - I think the most confusing topic at the beginning of the semester was definitely time complexities. However, as we learned more algorithms and applied them countless times, I can now get the idea of time complexity just by looking at the runtime figures and separate between feasible and unfeasible algorithms (exponentially vs. polynomially).\n",
    "    - #PythonProgramming:\n",
    "        - In this assignment, I created functions, used libraries, and produced the code in a simple, clean matter. I also completed and implemented three different algorithms, created plots and tables for complexity analysis and computational critiques.\n",
    "        - I think learning how to use classes and why Python is considered an object-oriented language really improved my python skills throughout the semester. By also learning how to implement different data structures, recursions, and dynamic programming/greed algorithms, I feel more confident in my Python skills.\n",
    "- #HCs\n",
    "    - #algorithms: In this assignment, I created three different algorithms that detect plagiarism. I use algorithmic thinking to formulate each algorithm and execute the code step-by-step. In the end, I talked about the advantages and disadvantages of each algorithm and its ability to solve real-life problems.\n",
    "    - #optimization: In this assignment, I tried to optimize in terms of time complexity and accuracy of plagiarism detection. To optimize the time complexity, I compared two different hash functions and plotted runtime figures to tease out which algorithm is better asymptotically. To optimize accuracy, I created psuedotexts to check which algorithm would be more useful in each case and in real-life scenarios.\n",
    "    - #constraints: In this assignment, I identified the constraint of creating plagiarism detection in real-life. Specifically, I showed that the edit distance approach is more accurate when encountering real-life data. However, its constraints are cases where the sentence or reordered. For the longest common substring, I showed its constraints on accurately projecting similarities across different examples. I also presented a case where both algorithms would not perform well in detecting plagiarism."
   ]
  }
 ],
 "metadata": {
  "kernelspec": {
   "display_name": "Python 3",
   "language": "python",
   "name": "python3"
  },
  "language_info": {
   "codemirror_mode": {
    "name": "ipython",
    "version": 3
   },
   "file_extension": ".py",
   "mimetype": "text/x-python",
   "name": "python",
   "nbconvert_exporter": "python",
   "pygments_lexer": "ipython3",
   "version": "3.7.4"
  }
 },
 "nbformat": 4,
 "nbformat_minor": 2
}
